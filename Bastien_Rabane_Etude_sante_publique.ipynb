{
 "cells": [
  {
   "cell_type": "markdown",
   "id": "e7316a32",
   "metadata": {},
   "source": [
    "<div style=\" background-color: RGB(0,114,200);\" >\n",
    "<h1 style=\"margin: auto; padding: 20px 0; color:#fff; text-align: center\">PROJET 4 DATA ANALYST</h1>\n",
    "<h2 style=\"margin: auto; padding: 20px 0; color:#fff; text-align: center\">Réalisez une étude de santé publique avec R ou Python\n",
    "</h2>\n",
    "</div>"
   ]
  },
  {
   "cell_type": "markdown",
   "id": "fd8f3803",
   "metadata": {},
   "source": [
    "\n",
    "# Sommaire\n",
    "\n",
    "## [Etape 1 - Importation des librairies et chargement des fichiers](#etape1)\n",
    "\n",
    "### [1.1 - Importation des librairies](#import_librairies)\n",
    "### [1.2 - Chargement des fichiers Excel](#chargement_fichiers)\n",
    "\n",
    "## [Etape 2 - Analyse exploratoire des fichiers](#etape2)\n",
    "\n",
    "### [2.1 - Analyse exploratoire du fichier population](#analyse_population)\n",
    "### [2.2 - Analyse exploratoire du fichier disponibilité alimentaire](#analyse_disponibilite_alimentaire)\n",
    "### [2.3 - Analyse exploratoire du fichier aide alimentaire](#analyse_aide_alimentaire)\n",
    "### [2.4 - Analyse exploratoire du fichier sous nutrition](#analyse_sous_nutrition)\n",
    "\n",
    "## [Etape 3 - Analyse et calculs](#etape3)\n",
    "\n",
    "### [3.1 - Proportion de personnes en sous nutrition](#proportion_sous_nutrition)\n",
    "### [3.2 - Nombre théorique de personne qui pourrait être nourries](#nombre_theorique_personnes)\n",
    "### [3.3 - Nombre théorique de personne qui pourrait être nourrie avec les produits végétaux](#nombre_theorique_personnes_vegetaux)\n",
    "### [3.4 - Utilisation de la disponibilité intérieure](#utilisation_dispo_interieure)\n",
    "### [3.5 - Utilisation des céréales](#utilisation_cereales)\n",
    "### [3.6 - Pays avec la proportion de personnes sous-alimentée la plus forte en 2017](#proportion_forte_sous_nutrition)\n",
    "### [3.7 - Pays qui ont le plus bénéficié d'aide alimentaire depuis 2013](#pays_plus_aide)\n",
    "### [3.8 - Evolution des 5 pays qui ont le plus bénéficiés de l'aide alimentaire entre 2013 et 2016](#evolution_aide_alimentaire)\n",
    "### [3.9 - Pays avec le moins de disponibilité par habitant](#moins_dispo_habitant)\n",
    "### [3.10 - Pays avec le plus de disponibilité par habitant](#plus_dispo_habitant)\n",
    "### [3.11 - Exemple de la Thaïlande pour le Manioc](#exemple_thailande_manioc)\n",
    "\n",
    "## [Etape 4 - Analyse complémentaires](#etape4)\n"
   ]
  },
  {
   "cell_type": "markdown",
   "id": "9dad8326",
   "metadata": {},
   "source": [
    "# <a id=\"etape1\"></a>\n",
    "<div style=\"background-color: RGB(0,150,250);\" >\n",
    "<h2 style=\"margin: auto; padding: 20px; color:#fff; \">Etape 1 - Importation des librairies et chargement des fichiers</h2>\n",
    "</div>"
   ]
  },
  {
   "cell_type": "markdown",
   "id": "4ee69457",
   "metadata": {},
   "source": [
    "# <a id=\"import_librairies\"></a>\n",
    "<div style=\"border: 1px solid RGB(0,150,250);\" >\n",
    "<h3 style=\"margin: auto; padding: 20px; color: RGB(0,150,250); \">1.1 - Importation des librairies</h3>\n",
    "</div>"
   ]
  },
  {
   "cell_type": "code",
   "execution_count": 1,
   "id": "ffe62b56",
   "metadata": {},
   "outputs": [],
   "source": [
    "import pandas as pd"
   ]
  },
  {
   "cell_type": "code",
   "execution_count": 2,
   "id": "e0425073",
   "metadata": {},
   "outputs": [],
   "source": [
    "import matplotlib.pyplot as plt\n",
    "import numpy as np"
   ]
  },
  {
   "cell_type": "markdown",
   "id": "8bd8e7ed",
   "metadata": {},
   "source": [
    "# <a id=\"chargement_fichiers\"></a>\n",
    "<div style=\"border: 1px solid RGB(0,150,250);\" >\n",
    "<h3 style=\"margin: auto; padding: 20px; color: RGB(0,150,250); \">1.2 - Chargement des fichiers Excel</h3>\n",
    "</div>"
   ]
  },
  {
   "cell_type": "code",
   "execution_count": 3,
   "id": "b304f108",
   "metadata": {},
   "outputs": [],
   "source": [
    "#Importation du fichier population.csv\n",
    "population = pd.read_csv('population.csv')\n",
    "\n",
    "#Importation du fichier dispo_alimentaire.csv\n",
    "dispo_alimentaire = pd.read_csv('dispo_alimentaire.csv')\n",
    "\n",
    "#Importation du fichier aide_alimentaire.csv\n",
    "aide_alimentaire = pd.read_csv('aide_alimentaire.csv')\n",
    "\n",
    "#Importation du fichier sous_nutrition.csv\n",
    "sous_nutrition = pd.read_csv('sous_nutrition.csv')"
   ]
  },
  {
   "cell_type": "markdown",
   "id": "1249847a",
   "metadata": {},
   "source": [
    "# <a id=\"etape2\"></a>\n",
    "<div style=\"background-color: RGB(0,150,250);\" >\n",
    "<h2 style=\"margin: auto; padding: 20px; color:#fff; \">Etape 2 - Analyse exploratoire des fichiers</h2>\n",
    "</div>"
   ]
  },
  {
   "cell_type": "markdown",
   "id": "235e6e91",
   "metadata": {},
   "source": [
    "# <a id=\"analyse_population\"></a>\n",
    "<div style=\"border: 1px solid RGB(0,150,250);\" >\n",
    "<h3 style=\"margin: auto; padding: 20px; color: RGB(0,150,250); \">2.1 - Analyse exploratoire du fichier population</h3>\n",
    "</div>"
   ]
  },
  {
   "cell_type": "code",
   "execution_count": 4,
   "id": "e6b639d2",
   "metadata": {},
   "outputs": [
    {
     "name": "stdout",
     "output_type": "stream",
     "text": [
      "Le tableau population comporte 1416 observation(s) ou article(s)\n",
      "Le tableau population comporte 3 colonne(s)\n"
     ]
    }
   ],
   "source": [
    "#Afficher les dimensions du dataset\n",
    "\n",
    "print(\"Le tableau population comporte {} observation(s) ou article(s)\".format(population.shape[0]))\n",
    "print(\"Le tableau population comporte {} colonne(s)\".format(population.shape[1]))"
   ]
  },
  {
   "cell_type": "code",
   "execution_count": 5,
   "id": "fbbdfd5c",
   "metadata": {
    "scrolled": false
   },
   "outputs": [
    {
     "name": "stdout",
     "output_type": "stream",
     "text": [
      "<class 'pandas.core.frame.DataFrame'>\n",
      "RangeIndex: 1416 entries, 0 to 1415\n",
      "Data columns (total 3 columns):\n",
      " #   Column  Non-Null Count  Dtype  \n",
      "---  ------  --------------  -----  \n",
      " 0   Zone    1416 non-null   object \n",
      " 1   Année   1416 non-null   int64  \n",
      " 2   Valeur  1416 non-null   float64\n",
      "dtypes: float64(1), int64(1), object(1)\n",
      "memory usage: 33.3+ KB\n"
     ]
    },
    {
     "data": {
      "text/plain": [
       "Zone       object\n",
       "Année       int64\n",
       "Valeur    float64\n",
       "dtype: object"
      ]
     },
     "execution_count": 5,
     "metadata": {},
     "output_type": "execute_result"
    }
   ],
   "source": [
    "#Consulter infos du dataframe\n",
    "\n",
    "population.info()\n",
    "\n",
    "#La nature des données dans chacune des colonnes\n",
    "\n",
    "population.dtypes"
   ]
  },
  {
   "cell_type": "code",
   "execution_count": 6,
   "id": "abd226fe",
   "metadata": {},
   "outputs": [
    {
     "name": "stdout",
     "output_type": "stream",
     "text": [
      "La valeur minimum de la colonne Valeur est de: 2013\n"
     ]
    }
   ],
   "source": [
    "#Valeur minimum de la colonne \"Année\"\n",
    "\n",
    "Valeur_min = population[\"Année\"].min()\n",
    "print(\"La valeur minimum de la colonne Valeur est de:\", Valeur_min)"
   ]
  },
  {
   "cell_type": "code",
   "execution_count": 7,
   "id": "aed56cf0",
   "metadata": {},
   "outputs": [
    {
     "name": "stdout",
     "output_type": "stream",
     "text": [
      "La valeur maximum de la colonne Valeur est de: 2018\n"
     ]
    }
   ],
   "source": [
    "#Valeur maximum de la colonne \"Année\"\n",
    "\n",
    "Valeur_max = population[\"Année\"].max()\n",
    "print(\"La valeur maximum de la colonne Valeur est de:\", Valeur_max)"
   ]
  },
  {
   "cell_type": "code",
   "execution_count": 8,
   "id": "8149c2d6",
   "metadata": {},
   "outputs": [
    {
     "data": {
      "text/plain": [
       "Zone      0\n",
       "Année     0\n",
       "Valeur    0\n",
       "dtype: int64"
      ]
     },
     "execution_count": 8,
     "metadata": {},
     "output_type": "execute_result"
    }
   ],
   "source": [
    "#Recherche des valeurs nulles\n",
    "\n",
    "population.isna().sum()"
   ]
  },
  {
   "cell_type": "code",
   "execution_count": 9,
   "id": "1cd2440d",
   "metadata": {},
   "outputs": [
    {
     "name": "stdout",
     "output_type": "stream",
     "text": [
      "Le nombre de pays apparaissant dans le tableau est de : 236\n"
     ]
    }
   ],
   "source": [
    "#Nombre de pays présent dans la colonne \"Zone\"\n",
    "\n",
    "Nombre_pays = population[\"Zone\"].nunique()\n",
    "\n",
    "print(\"Le nombre de pays apparaissant dans le tableau est de :\", Nombre_pays)"
   ]
  },
  {
   "cell_type": "code",
   "execution_count": 10,
   "id": "3e50d9e6",
   "metadata": {},
   "outputs": [
    {
     "data": {
      "text/html": [
       "<div>\n",
       "<style scoped>\n",
       "    .dataframe tbody tr th:only-of-type {\n",
       "        vertical-align: middle;\n",
       "    }\n",
       "\n",
       "    .dataframe tbody tr th {\n",
       "        vertical-align: top;\n",
       "    }\n",
       "\n",
       "    .dataframe thead th {\n",
       "        text-align: right;\n",
       "    }\n",
       "</style>\n",
       "<table border=\"1\" class=\"dataframe\">\n",
       "  <thead>\n",
       "    <tr style=\"text-align: right;\">\n",
       "      <th></th>\n",
       "      <th>Zone</th>\n",
       "      <th>Année</th>\n",
       "      <th>Valeur</th>\n",
       "    </tr>\n",
       "  </thead>\n",
       "  <tbody>\n",
       "    <tr>\n",
       "      <th>0</th>\n",
       "      <td>Afghanistan</td>\n",
       "      <td>2013</td>\n",
       "      <td>32269.589</td>\n",
       "    </tr>\n",
       "    <tr>\n",
       "      <th>1</th>\n",
       "      <td>Afghanistan</td>\n",
       "      <td>2014</td>\n",
       "      <td>33370.794</td>\n",
       "    </tr>\n",
       "    <tr>\n",
       "      <th>2</th>\n",
       "      <td>Afghanistan</td>\n",
       "      <td>2015</td>\n",
       "      <td>34413.603</td>\n",
       "    </tr>\n",
       "    <tr>\n",
       "      <th>3</th>\n",
       "      <td>Afghanistan</td>\n",
       "      <td>2016</td>\n",
       "      <td>35383.032</td>\n",
       "    </tr>\n",
       "    <tr>\n",
       "      <th>4</th>\n",
       "      <td>Afghanistan</td>\n",
       "      <td>2017</td>\n",
       "      <td>36296.113</td>\n",
       "    </tr>\n",
       "  </tbody>\n",
       "</table>\n",
       "</div>"
      ],
      "text/plain": [
       "          Zone  Année     Valeur\n",
       "0  Afghanistan   2013  32269.589\n",
       "1  Afghanistan   2014  33370.794\n",
       "2  Afghanistan   2015  34413.603\n",
       "3  Afghanistan   2016  35383.032\n",
       "4  Afghanistan   2017  36296.113"
      ]
     },
     "execution_count": 10,
     "metadata": {},
     "output_type": "execute_result"
    }
   ],
   "source": [
    "#Affichage les 5 premières lignes de la table\n",
    "\n",
    "population.head()"
   ]
  },
  {
   "cell_type": "code",
   "execution_count": 11,
   "id": "d8dfb0e6",
   "metadata": {},
   "outputs": [
    {
     "data": {
      "text/html": [
       "<div>\n",
       "<style scoped>\n",
       "    .dataframe tbody tr th:only-of-type {\n",
       "        vertical-align: middle;\n",
       "    }\n",
       "\n",
       "    .dataframe tbody tr th {\n",
       "        vertical-align: top;\n",
       "    }\n",
       "\n",
       "    .dataframe thead th {\n",
       "        text-align: right;\n",
       "    }\n",
       "</style>\n",
       "<table border=\"1\" class=\"dataframe\">\n",
       "  <thead>\n",
       "    <tr style=\"text-align: right;\">\n",
       "      <th></th>\n",
       "      <th>Zone</th>\n",
       "      <th>Année</th>\n",
       "      <th>Valeur</th>\n",
       "    </tr>\n",
       "  </thead>\n",
       "  <tbody>\n",
       "  </tbody>\n",
       "</table>\n",
       "</div>"
      ],
      "text/plain": [
       "Empty DataFrame\n",
       "Columns: [Zone, Année, Valeur]\n",
       "Index: []"
      ]
     },
     "execution_count": 11,
     "metadata": {},
     "output_type": "execute_result"
    }
   ],
   "source": [
    "#Recherche de doublon\n",
    "\n",
    "population[population.duplicated()]"
   ]
  },
  {
   "cell_type": "code",
   "execution_count": 12,
   "id": "ab1a4af4",
   "metadata": {},
   "outputs": [],
   "source": [
    "#Nous allons harmoniser les unités. Pour cela, nous avons décidé de multiplier la population par 1000\n",
    "#Multiplication de la colonne valeur par 1000\n",
    "\n",
    "population.Valeur = population.Valeur*1000"
   ]
  },
  {
   "cell_type": "code",
   "execution_count": 13,
   "id": "38836b61",
   "metadata": {},
   "outputs": [],
   "source": [
    "#changement du nom de la colonne Valeur par Population\n",
    "\n",
    "population.rename(columns={'Valeur':'Population'}, inplace=True)"
   ]
  },
  {
   "cell_type": "code",
   "execution_count": 14,
   "id": "ff707561",
   "metadata": {},
   "outputs": [
    {
     "data": {
      "text/html": [
       "<div>\n",
       "<style scoped>\n",
       "    .dataframe tbody tr th:only-of-type {\n",
       "        vertical-align: middle;\n",
       "    }\n",
       "\n",
       "    .dataframe tbody tr th {\n",
       "        vertical-align: top;\n",
       "    }\n",
       "\n",
       "    .dataframe thead th {\n",
       "        text-align: right;\n",
       "    }\n",
       "</style>\n",
       "<table border=\"1\" class=\"dataframe\">\n",
       "  <thead>\n",
       "    <tr style=\"text-align: right;\">\n",
       "      <th></th>\n",
       "      <th>Zone</th>\n",
       "      <th>Année</th>\n",
       "      <th>Population</th>\n",
       "    </tr>\n",
       "  </thead>\n",
       "  <tbody>\n",
       "    <tr>\n",
       "      <th>0</th>\n",
       "      <td>Afghanistan</td>\n",
       "      <td>2013</td>\n",
       "      <td>32269589.0</td>\n",
       "    </tr>\n",
       "    <tr>\n",
       "      <th>1</th>\n",
       "      <td>Afghanistan</td>\n",
       "      <td>2014</td>\n",
       "      <td>33370794.0</td>\n",
       "    </tr>\n",
       "    <tr>\n",
       "      <th>2</th>\n",
       "      <td>Afghanistan</td>\n",
       "      <td>2015</td>\n",
       "      <td>34413603.0</td>\n",
       "    </tr>\n",
       "    <tr>\n",
       "      <th>3</th>\n",
       "      <td>Afghanistan</td>\n",
       "      <td>2016</td>\n",
       "      <td>35383032.0</td>\n",
       "    </tr>\n",
       "    <tr>\n",
       "      <th>4</th>\n",
       "      <td>Afghanistan</td>\n",
       "      <td>2017</td>\n",
       "      <td>36296113.0</td>\n",
       "    </tr>\n",
       "  </tbody>\n",
       "</table>\n",
       "</div>"
      ],
      "text/plain": [
       "          Zone  Année  Population\n",
       "0  Afghanistan   2013  32269589.0\n",
       "1  Afghanistan   2014  33370794.0\n",
       "2  Afghanistan   2015  34413603.0\n",
       "3  Afghanistan   2016  35383032.0\n",
       "4  Afghanistan   2017  36296113.0"
      ]
     },
     "execution_count": 14,
     "metadata": {},
     "output_type": "execute_result"
    }
   ],
   "source": [
    "#Affichage les 5 premières lignes de la table pour voir les modifications\n",
    "\n",
    "population.head()"
   ]
  },
  {
   "cell_type": "markdown",
   "id": "4224b896",
   "metadata": {},
   "source": [
    "# <a id=\"analyse_disponibilite_alimentaire\"></a>\n",
    "<div style=\"border: 1px solid RGB(0,150,250);\" >\n",
    "<h3 style=\"margin: auto; padding: 20px; color: RGB(0,150,250); \">2.2 - Analyse exploratoire du fichier disponibilité alimentaire</h3>\n",
    "</div>"
   ]
  },
  {
   "cell_type": "code",
   "execution_count": 15,
   "id": "38f5b838",
   "metadata": {},
   "outputs": [
    {
     "name": "stdout",
     "output_type": "stream",
     "text": [
      "Le tableau population comporte 15605 observation(s) ou article(s)\n",
      "Le tableau population comporte 18 colonne(s)\n"
     ]
    }
   ],
   "source": [
    "#Afficher les dimensions du dataset\n",
    "\n",
    "print(\"Le tableau population comporte {} observation(s) ou article(s)\".format(dispo_alimentaire.shape[0]))\n",
    "print(\"Le tableau population comporte {} colonne(s)\".format(dispo_alimentaire.shape[1]))"
   ]
  },
  {
   "cell_type": "code",
   "execution_count": 16,
   "id": "99735a22",
   "metadata": {},
   "outputs": [
    {
     "data": {
      "text/plain": [
       "Zone                                                              object\n",
       "Produit                                                           object\n",
       "Origine                                                           object\n",
       "Aliments pour animaux                                            float64\n",
       "Autres Utilisations                                              float64\n",
       "Disponibilité alimentaire (Kcal/personne/jour)                   float64\n",
       "Disponibilité alimentaire en quantité (kg/personne/an)           float64\n",
       "Disponibilité de matière grasse en quantité (g/personne/jour)    float64\n",
       "Disponibilité de protéines en quantité (g/personne/jour)         float64\n",
       "Disponibilité intérieure                                         float64\n",
       "Exportations - Quantité                                          float64\n",
       "Importations - Quantité                                          float64\n",
       "Nourriture                                                       float64\n",
       "Pertes                                                           float64\n",
       "Production                                                       float64\n",
       "Semences                                                         float64\n",
       "Traitement                                                       float64\n",
       "Variation de stock                                               float64\n",
       "dtype: object"
      ]
     },
     "execution_count": 16,
     "metadata": {},
     "output_type": "execute_result"
    }
   ],
   "source": [
    "#Affichage du types de données\n",
    "\n",
    "dispo_alimentaire.dtypes"
   ]
  },
  {
   "cell_type": "code",
   "execution_count": 17,
   "id": "20912208",
   "metadata": {},
   "outputs": [
    {
     "name": "stdout",
     "output_type": "stream",
     "text": [
      "Le nombre de pays présent dans le dataframe dispo_alimentaire est de: 174\n"
     ]
    }
   ],
   "source": [
    "#Calcul du nombre de pays apparaissant dans le dataframe\n",
    "\n",
    "Nombre_pays_dispo_alimentaire = dispo_alimentaire['Zone'].nunique()\n",
    "\n",
    "print('Le nombre de pays présent dans le dataframe dispo_alimentaire est de:', Nombre_pays_dispo_alimentaire)"
   ]
  },
  {
   "cell_type": "code",
   "execution_count": 18,
   "id": "35b5ec29",
   "metadata": {},
   "outputs": [
    {
     "data": {
      "text/html": [
       "<div>\n",
       "<style scoped>\n",
       "    .dataframe tbody tr th:only-of-type {\n",
       "        vertical-align: middle;\n",
       "    }\n",
       "\n",
       "    .dataframe tbody tr th {\n",
       "        vertical-align: top;\n",
       "    }\n",
       "\n",
       "    .dataframe thead th {\n",
       "        text-align: right;\n",
       "    }\n",
       "</style>\n",
       "<table border=\"1\" class=\"dataframe\">\n",
       "  <thead>\n",
       "    <tr style=\"text-align: right;\">\n",
       "      <th></th>\n",
       "      <th>Aliments pour animaux</th>\n",
       "      <th>Autres Utilisations</th>\n",
       "      <th>Disponibilité alimentaire (Kcal/personne/jour)</th>\n",
       "      <th>Disponibilité alimentaire en quantité (kg/personne/an)</th>\n",
       "      <th>Disponibilité de matière grasse en quantité (g/personne/jour)</th>\n",
       "      <th>Disponibilité de protéines en quantité (g/personne/jour)</th>\n",
       "      <th>Disponibilité intérieure</th>\n",
       "      <th>Exportations - Quantité</th>\n",
       "      <th>Importations - Quantité</th>\n",
       "      <th>Nourriture</th>\n",
       "      <th>Pertes</th>\n",
       "      <th>Production</th>\n",
       "      <th>Semences</th>\n",
       "      <th>Traitement</th>\n",
       "      <th>Variation de stock</th>\n",
       "    </tr>\n",
       "  </thead>\n",
       "  <tbody>\n",
       "    <tr>\n",
       "      <th>count</th>\n",
       "      <td>2720.000000</td>\n",
       "      <td>5496.000000</td>\n",
       "      <td>14241.000000</td>\n",
       "      <td>14015.000000</td>\n",
       "      <td>11794.000000</td>\n",
       "      <td>11561.000000</td>\n",
       "      <td>15382.000000</td>\n",
       "      <td>12226.000000</td>\n",
       "      <td>14852.000000</td>\n",
       "      <td>14015.000000</td>\n",
       "      <td>4278.000000</td>\n",
       "      <td>9180.000000</td>\n",
       "      <td>2091.000000</td>\n",
       "      <td>2292.000000</td>\n",
       "      <td>6776.000000</td>\n",
       "    </tr>\n",
       "    <tr>\n",
       "      <th>mean</th>\n",
       "      <td>479.501838</td>\n",
       "      <td>157.391376</td>\n",
       "      <td>34.789832</td>\n",
       "      <td>8.719368</td>\n",
       "      <td>1.283111</td>\n",
       "      <td>1.223608</td>\n",
       "      <td>640.293460</td>\n",
       "      <td>110.596925</td>\n",
       "      <td>87.264543</td>\n",
       "      <td>347.931359</td>\n",
       "      <td>106.053763</td>\n",
       "      <td>1090.379085</td>\n",
       "      <td>73.974653</td>\n",
       "      <td>961.905323</td>\n",
       "      <td>-15.407615</td>\n",
       "    </tr>\n",
       "    <tr>\n",
       "      <th>std</th>\n",
       "      <td>4240.119637</td>\n",
       "      <td>5076.785816</td>\n",
       "      <td>107.287655</td>\n",
       "      <td>24.618223</td>\n",
       "      <td>3.680399</td>\n",
       "      <td>3.598686</td>\n",
       "      <td>9067.267153</td>\n",
       "      <td>1053.318990</td>\n",
       "      <td>717.372714</td>\n",
       "      <td>4475.704458</td>\n",
       "      <td>1113.100416</td>\n",
       "      <td>12067.344094</td>\n",
       "      <td>528.069224</td>\n",
       "      <td>10381.795904</td>\n",
       "      <td>549.834540</td>\n",
       "    </tr>\n",
       "    <tr>\n",
       "      <th>min</th>\n",
       "      <td>0.000000</td>\n",
       "      <td>0.000000</td>\n",
       "      <td>-21.000000</td>\n",
       "      <td>-1.930000</td>\n",
       "      <td>-0.030000</td>\n",
       "      <td>-0.370000</td>\n",
       "      <td>-3430.000000</td>\n",
       "      <td>-41.000000</td>\n",
       "      <td>-201.000000</td>\n",
       "      <td>-246.000000</td>\n",
       "      <td>0.000000</td>\n",
       "      <td>0.000000</td>\n",
       "      <td>0.000000</td>\n",
       "      <td>-19.000000</td>\n",
       "      <td>-39863.000000</td>\n",
       "    </tr>\n",
       "    <tr>\n",
       "      <th>25%</th>\n",
       "      <td>0.000000</td>\n",
       "      <td>0.000000</td>\n",
       "      <td>0.000000</td>\n",
       "      <td>0.060000</td>\n",
       "      <td>0.010000</td>\n",
       "      <td>0.010000</td>\n",
       "      <td>0.000000</td>\n",
       "      <td>0.000000</td>\n",
       "      <td>0.000000</td>\n",
       "      <td>0.000000</td>\n",
       "      <td>0.000000</td>\n",
       "      <td>2.000000</td>\n",
       "      <td>0.000000</td>\n",
       "      <td>0.000000</td>\n",
       "      <td>0.000000</td>\n",
       "    </tr>\n",
       "    <tr>\n",
       "      <th>50%</th>\n",
       "      <td>4.000000</td>\n",
       "      <td>0.000000</td>\n",
       "      <td>4.000000</td>\n",
       "      <td>0.830000</td>\n",
       "      <td>0.080000</td>\n",
       "      <td>0.100000</td>\n",
       "      <td>7.000000</td>\n",
       "      <td>0.000000</td>\n",
       "      <td>2.000000</td>\n",
       "      <td>5.000000</td>\n",
       "      <td>4.000000</td>\n",
       "      <td>22.000000</td>\n",
       "      <td>2.000000</td>\n",
       "      <td>6.000000</td>\n",
       "      <td>0.000000</td>\n",
       "    </tr>\n",
       "    <tr>\n",
       "      <th>75%</th>\n",
       "      <td>74.000000</td>\n",
       "      <td>4.000000</td>\n",
       "      <td>21.000000</td>\n",
       "      <td>5.190000</td>\n",
       "      <td>0.630000</td>\n",
       "      <td>0.660000</td>\n",
       "      <td>76.750000</td>\n",
       "      <td>9.000000</td>\n",
       "      <td>18.000000</td>\n",
       "      <td>52.000000</td>\n",
       "      <td>26.000000</td>\n",
       "      <td>191.250000</td>\n",
       "      <td>17.000000</td>\n",
       "      <td>69.000000</td>\n",
       "      <td>0.000000</td>\n",
       "    </tr>\n",
       "    <tr>\n",
       "      <th>max</th>\n",
       "      <td>150000.000000</td>\n",
       "      <td>347309.000000</td>\n",
       "      <td>1711.000000</td>\n",
       "      <td>430.760000</td>\n",
       "      <td>60.760000</td>\n",
       "      <td>54.970000</td>\n",
       "      <td>739267.000000</td>\n",
       "      <td>42797.000000</td>\n",
       "      <td>63381.000000</td>\n",
       "      <td>426850.000000</td>\n",
       "      <td>55047.000000</td>\n",
       "      <td>739267.000000</td>\n",
       "      <td>17060.000000</td>\n",
       "      <td>326711.000000</td>\n",
       "      <td>5284.000000</td>\n",
       "    </tr>\n",
       "  </tbody>\n",
       "</table>\n",
       "</div>"
      ],
      "text/plain": [
       "       Aliments pour animaux  Autres Utilisations  \\\n",
       "count            2720.000000          5496.000000   \n",
       "mean              479.501838           157.391376   \n",
       "std              4240.119637          5076.785816   \n",
       "min                 0.000000             0.000000   \n",
       "25%                 0.000000             0.000000   \n",
       "50%                 4.000000             0.000000   \n",
       "75%                74.000000             4.000000   \n",
       "max            150000.000000        347309.000000   \n",
       "\n",
       "       Disponibilité alimentaire (Kcal/personne/jour)  \\\n",
       "count                                    14241.000000   \n",
       "mean                                        34.789832   \n",
       "std                                        107.287655   \n",
       "min                                        -21.000000   \n",
       "25%                                          0.000000   \n",
       "50%                                          4.000000   \n",
       "75%                                         21.000000   \n",
       "max                                       1711.000000   \n",
       "\n",
       "       Disponibilité alimentaire en quantité (kg/personne/an)  \\\n",
       "count                                       14015.000000        \n",
       "mean                                            8.719368        \n",
       "std                                            24.618223        \n",
       "min                                            -1.930000        \n",
       "25%                                             0.060000        \n",
       "50%                                             0.830000        \n",
       "75%                                             5.190000        \n",
       "max                                           430.760000        \n",
       "\n",
       "       Disponibilité de matière grasse en quantité (g/personne/jour)  \\\n",
       "count                                       11794.000000               \n",
       "mean                                            1.283111               \n",
       "std                                             3.680399               \n",
       "min                                            -0.030000               \n",
       "25%                                             0.010000               \n",
       "50%                                             0.080000               \n",
       "75%                                             0.630000               \n",
       "max                                            60.760000               \n",
       "\n",
       "       Disponibilité de protéines en quantité (g/personne/jour)  \\\n",
       "count                                       11561.000000          \n",
       "mean                                            1.223608          \n",
       "std                                             3.598686          \n",
       "min                                            -0.370000          \n",
       "25%                                             0.010000          \n",
       "50%                                             0.100000          \n",
       "75%                                             0.660000          \n",
       "max                                            54.970000          \n",
       "\n",
       "       Disponibilité intérieure  Exportations - Quantité  \\\n",
       "count              15382.000000             12226.000000   \n",
       "mean                 640.293460               110.596925   \n",
       "std                 9067.267153              1053.318990   \n",
       "min                -3430.000000               -41.000000   \n",
       "25%                    0.000000                 0.000000   \n",
       "50%                    7.000000                 0.000000   \n",
       "75%                   76.750000                 9.000000   \n",
       "max               739267.000000             42797.000000   \n",
       "\n",
       "       Importations - Quantité     Nourriture        Pertes     Production  \\\n",
       "count             14852.000000   14015.000000   4278.000000    9180.000000   \n",
       "mean                 87.264543     347.931359    106.053763    1090.379085   \n",
       "std                 717.372714    4475.704458   1113.100416   12067.344094   \n",
       "min                -201.000000    -246.000000      0.000000       0.000000   \n",
       "25%                   0.000000       0.000000      0.000000       2.000000   \n",
       "50%                   2.000000       5.000000      4.000000      22.000000   \n",
       "75%                  18.000000      52.000000     26.000000     191.250000   \n",
       "max               63381.000000  426850.000000  55047.000000  739267.000000   \n",
       "\n",
       "           Semences     Traitement  Variation de stock  \n",
       "count   2091.000000    2292.000000         6776.000000  \n",
       "mean      73.974653     961.905323          -15.407615  \n",
       "std      528.069224   10381.795904          549.834540  \n",
       "min        0.000000     -19.000000       -39863.000000  \n",
       "25%        0.000000       0.000000            0.000000  \n",
       "50%        2.000000       6.000000            0.000000  \n",
       "75%       17.000000      69.000000            0.000000  \n",
       "max    17060.000000  326711.000000         5284.000000  "
      ]
     },
     "execution_count": 18,
     "metadata": {},
     "output_type": "execute_result"
    }
   ],
   "source": [
    "#Description du data frame à la recherche de data incohérentes, nous pouvons constater des valeurs négatives dans certainnes colonnes.\n",
    "\n",
    "dispo_alimentaire.describe()"
   ]
  },
  {
   "cell_type": "code",
   "execution_count": 19,
   "id": "dbd3211d",
   "metadata": {},
   "outputs": [
    {
     "data": {
      "text/html": [
       "<div>\n",
       "<style scoped>\n",
       "    .dataframe tbody tr th:only-of-type {\n",
       "        vertical-align: middle;\n",
       "    }\n",
       "\n",
       "    .dataframe tbody tr th {\n",
       "        vertical-align: top;\n",
       "    }\n",
       "\n",
       "    .dataframe thead th {\n",
       "        text-align: right;\n",
       "    }\n",
       "</style>\n",
       "<table border=\"1\" class=\"dataframe\">\n",
       "  <thead>\n",
       "    <tr style=\"text-align: right;\">\n",
       "      <th></th>\n",
       "      <th>Zone</th>\n",
       "      <th>Produit</th>\n",
       "      <th>Origine</th>\n",
       "      <th>Aliments pour animaux</th>\n",
       "      <th>Autres Utilisations</th>\n",
       "      <th>Disponibilité alimentaire (Kcal/personne/jour)</th>\n",
       "      <th>Disponibilité alimentaire en quantité (kg/personne/an)</th>\n",
       "      <th>Disponibilité de matière grasse en quantité (g/personne/jour)</th>\n",
       "      <th>Disponibilité de protéines en quantité (g/personne/jour)</th>\n",
       "      <th>Disponibilité intérieure</th>\n",
       "      <th>Exportations - Quantité</th>\n",
       "      <th>Importations - Quantité</th>\n",
       "      <th>Nourriture</th>\n",
       "      <th>Pertes</th>\n",
       "      <th>Production</th>\n",
       "      <th>Semences</th>\n",
       "      <th>Traitement</th>\n",
       "      <th>Variation de stock</th>\n",
       "    </tr>\n",
       "  </thead>\n",
       "  <tbody>\n",
       "  </tbody>\n",
       "</table>\n",
       "</div>"
      ],
      "text/plain": [
       "Empty DataFrame\n",
       "Columns: [Zone, Produit, Origine, Aliments pour animaux, Autres Utilisations, Disponibilité alimentaire (Kcal/personne/jour), Disponibilité alimentaire en quantité (kg/personne/an), Disponibilité de matière grasse en quantité (g/personne/jour), Disponibilité de protéines en quantité (g/personne/jour), Disponibilité intérieure, Exportations - Quantité, Importations - Quantité, Nourriture, Pertes, Production, Semences, Traitement, Variation de stock]\n",
       "Index: []"
      ]
     },
     "execution_count": 19,
     "metadata": {},
     "output_type": "execute_result"
    }
   ],
   "source": [
    "#Recheche de doublon\n",
    "\n",
    "dispo_alimentaire[dispo_alimentaire.duplicated()]"
   ]
  },
  {
   "cell_type": "code",
   "execution_count": 20,
   "id": "2563954d",
   "metadata": {},
   "outputs": [
    {
     "data": {
      "text/plain": [
       "Zone                                                                 0\n",
       "Produit                                                              0\n",
       "Origine                                                              0\n",
       "Aliments pour animaux                                            12885\n",
       "Autres Utilisations                                              10109\n",
       "Disponibilité alimentaire (Kcal/personne/jour)                    1364\n",
       "Disponibilité alimentaire en quantité (kg/personne/an)            1590\n",
       "Disponibilité de matière grasse en quantité (g/personne/jour)     3811\n",
       "Disponibilité de protéines en quantité (g/personne/jour)          4044\n",
       "Disponibilité intérieure                                           223\n",
       "Exportations - Quantité                                           3379\n",
       "Importations - Quantité                                            753\n",
       "Nourriture                                                        1590\n",
       "Pertes                                                           11327\n",
       "Production                                                        6425\n",
       "Semences                                                         13514\n",
       "Traitement                                                       13313\n",
       "Variation de stock                                                8829\n",
       "dtype: int64"
      ]
     },
     "execution_count": 20,
     "metadata": {},
     "output_type": "execute_result"
    }
   ],
   "source": [
    "dispo_alimentaire.isna().sum()"
   ]
  },
  {
   "cell_type": "code",
   "execution_count": 21,
   "id": "f3832569",
   "metadata": {},
   "outputs": [],
   "source": [
    "#remplacement des NaN dans le dataset par des 0\n",
    "\n",
    "dispo_alimentaire = dispo_alimentaire.fillna(0)"
   ]
  },
  {
   "cell_type": "code",
   "execution_count": 22,
   "id": "db4432e3",
   "metadata": {},
   "outputs": [],
   "source": [
    "#multiplication de toutes les lignes contenant des milliers de tonnes en Kg\n",
    "Colonnes_a_multiplier = ['Aliments pour animaux', 'Autres Utilisations','Disponibilité intérieure', 'Exportations - Quantité', 'Importations - Quantité', 'Nourriture', 'Pertes', 'Production', 'Semences', 'Traitement', 'Variation de stock']\n",
    "dispo_alimentaire[Colonnes_a_multiplier] *= 1000000"
   ]
  },
  {
   "cell_type": "code",
   "execution_count": 23,
   "id": "7f1689bf",
   "metadata": {},
   "outputs": [
    {
     "data": {
      "text/html": [
       "<div>\n",
       "<style scoped>\n",
       "    .dataframe tbody tr th:only-of-type {\n",
       "        vertical-align: middle;\n",
       "    }\n",
       "\n",
       "    .dataframe tbody tr th {\n",
       "        vertical-align: top;\n",
       "    }\n",
       "\n",
       "    .dataframe thead th {\n",
       "        text-align: right;\n",
       "    }\n",
       "</style>\n",
       "<table border=\"1\" class=\"dataframe\">\n",
       "  <thead>\n",
       "    <tr style=\"text-align: right;\">\n",
       "      <th></th>\n",
       "      <th>Zone</th>\n",
       "      <th>Produit</th>\n",
       "      <th>Origine</th>\n",
       "      <th>Aliments pour animaux</th>\n",
       "      <th>Autres Utilisations</th>\n",
       "      <th>Disponibilité alimentaire (Kcal/personne/jour)</th>\n",
       "      <th>Disponibilité alimentaire en quantité (kg/personne/an)</th>\n",
       "      <th>Disponibilité de matière grasse en quantité (g/personne/jour)</th>\n",
       "      <th>Disponibilité de protéines en quantité (g/personne/jour)</th>\n",
       "      <th>Disponibilité intérieure</th>\n",
       "      <th>Exportations - Quantité</th>\n",
       "      <th>Importations - Quantité</th>\n",
       "      <th>Nourriture</th>\n",
       "      <th>Pertes</th>\n",
       "      <th>Production</th>\n",
       "      <th>Semences</th>\n",
       "      <th>Traitement</th>\n",
       "      <th>Variation de stock</th>\n",
       "    </tr>\n",
       "  </thead>\n",
       "  <tbody>\n",
       "    <tr>\n",
       "      <th>0</th>\n",
       "      <td>Afghanistan</td>\n",
       "      <td>Abats Comestible</td>\n",
       "      <td>animale</td>\n",
       "      <td>0.0</td>\n",
       "      <td>0.0</td>\n",
       "      <td>5.0</td>\n",
       "      <td>1.72</td>\n",
       "      <td>0.20</td>\n",
       "      <td>0.77</td>\n",
       "      <td>53000000.0</td>\n",
       "      <td>0.0</td>\n",
       "      <td>0.0</td>\n",
       "      <td>53000000.0</td>\n",
       "      <td>0.0</td>\n",
       "      <td>53000000.0</td>\n",
       "      <td>0.0</td>\n",
       "      <td>0.0</td>\n",
       "      <td>0.0</td>\n",
       "    </tr>\n",
       "    <tr>\n",
       "      <th>1</th>\n",
       "      <td>Afghanistan</td>\n",
       "      <td>Agrumes, Autres</td>\n",
       "      <td>vegetale</td>\n",
       "      <td>0.0</td>\n",
       "      <td>0.0</td>\n",
       "      <td>1.0</td>\n",
       "      <td>1.29</td>\n",
       "      <td>0.01</td>\n",
       "      <td>0.02</td>\n",
       "      <td>41000000.0</td>\n",
       "      <td>2000000.0</td>\n",
       "      <td>40000000.0</td>\n",
       "      <td>39000000.0</td>\n",
       "      <td>2000000.0</td>\n",
       "      <td>3000000.0</td>\n",
       "      <td>0.0</td>\n",
       "      <td>0.0</td>\n",
       "      <td>0.0</td>\n",
       "    </tr>\n",
       "    <tr>\n",
       "      <th>2</th>\n",
       "      <td>Afghanistan</td>\n",
       "      <td>Aliments pour enfants</td>\n",
       "      <td>vegetale</td>\n",
       "      <td>0.0</td>\n",
       "      <td>0.0</td>\n",
       "      <td>1.0</td>\n",
       "      <td>0.06</td>\n",
       "      <td>0.01</td>\n",
       "      <td>0.03</td>\n",
       "      <td>2000000.0</td>\n",
       "      <td>0.0</td>\n",
       "      <td>2000000.0</td>\n",
       "      <td>2000000.0</td>\n",
       "      <td>0.0</td>\n",
       "      <td>0.0</td>\n",
       "      <td>0.0</td>\n",
       "      <td>0.0</td>\n",
       "      <td>0.0</td>\n",
       "    </tr>\n",
       "    <tr>\n",
       "      <th>3</th>\n",
       "      <td>Afghanistan</td>\n",
       "      <td>Ananas</td>\n",
       "      <td>vegetale</td>\n",
       "      <td>0.0</td>\n",
       "      <td>0.0</td>\n",
       "      <td>0.0</td>\n",
       "      <td>0.00</td>\n",
       "      <td>0.00</td>\n",
       "      <td>0.00</td>\n",
       "      <td>0.0</td>\n",
       "      <td>0.0</td>\n",
       "      <td>0.0</td>\n",
       "      <td>0.0</td>\n",
       "      <td>0.0</td>\n",
       "      <td>0.0</td>\n",
       "      <td>0.0</td>\n",
       "      <td>0.0</td>\n",
       "      <td>0.0</td>\n",
       "    </tr>\n",
       "    <tr>\n",
       "      <th>4</th>\n",
       "      <td>Afghanistan</td>\n",
       "      <td>Bananes</td>\n",
       "      <td>vegetale</td>\n",
       "      <td>0.0</td>\n",
       "      <td>0.0</td>\n",
       "      <td>4.0</td>\n",
       "      <td>2.70</td>\n",
       "      <td>0.02</td>\n",
       "      <td>0.05</td>\n",
       "      <td>82000000.0</td>\n",
       "      <td>0.0</td>\n",
       "      <td>82000000.0</td>\n",
       "      <td>82000000.0</td>\n",
       "      <td>0.0</td>\n",
       "      <td>0.0</td>\n",
       "      <td>0.0</td>\n",
       "      <td>0.0</td>\n",
       "      <td>0.0</td>\n",
       "    </tr>\n",
       "  </tbody>\n",
       "</table>\n",
       "</div>"
      ],
      "text/plain": [
       "          Zone                Produit   Origine  Aliments pour animaux  \\\n",
       "0  Afghanistan       Abats Comestible   animale                    0.0   \n",
       "1  Afghanistan        Agrumes, Autres  vegetale                    0.0   \n",
       "2  Afghanistan  Aliments pour enfants  vegetale                    0.0   \n",
       "3  Afghanistan                 Ananas  vegetale                    0.0   \n",
       "4  Afghanistan                Bananes  vegetale                    0.0   \n",
       "\n",
       "   Autres Utilisations  Disponibilité alimentaire (Kcal/personne/jour)  \\\n",
       "0                  0.0                                             5.0   \n",
       "1                  0.0                                             1.0   \n",
       "2                  0.0                                             1.0   \n",
       "3                  0.0                                             0.0   \n",
       "4                  0.0                                             4.0   \n",
       "\n",
       "   Disponibilité alimentaire en quantité (kg/personne/an)  \\\n",
       "0                                               1.72        \n",
       "1                                               1.29        \n",
       "2                                               0.06        \n",
       "3                                               0.00        \n",
       "4                                               2.70        \n",
       "\n",
       "   Disponibilité de matière grasse en quantité (g/personne/jour)  \\\n",
       "0                                               0.20               \n",
       "1                                               0.01               \n",
       "2                                               0.01               \n",
       "3                                               0.00               \n",
       "4                                               0.02               \n",
       "\n",
       "   Disponibilité de protéines en quantité (g/personne/jour)  \\\n",
       "0                                               0.77          \n",
       "1                                               0.02          \n",
       "2                                               0.03          \n",
       "3                                               0.00          \n",
       "4                                               0.05          \n",
       "\n",
       "   Disponibilité intérieure  Exportations - Quantité  Importations - Quantité  \\\n",
       "0                53000000.0                      0.0                      0.0   \n",
       "1                41000000.0                2000000.0               40000000.0   \n",
       "2                 2000000.0                      0.0                2000000.0   \n",
       "3                       0.0                      0.0                      0.0   \n",
       "4                82000000.0                      0.0               82000000.0   \n",
       "\n",
       "   Nourriture     Pertes  Production  Semences  Traitement  Variation de stock  \n",
       "0  53000000.0        0.0  53000000.0       0.0         0.0                 0.0  \n",
       "1  39000000.0  2000000.0   3000000.0       0.0         0.0                 0.0  \n",
       "2   2000000.0        0.0         0.0       0.0         0.0                 0.0  \n",
       "3         0.0        0.0         0.0       0.0         0.0                 0.0  \n",
       "4  82000000.0        0.0         0.0       0.0         0.0                 0.0  "
      ]
     },
     "execution_count": 23,
     "metadata": {},
     "output_type": "execute_result"
    }
   ],
   "source": [
    "#Affichage les 5 premières lignes de la table\n",
    "\n",
    "dispo_alimentaire.head()"
   ]
  },
  {
   "cell_type": "markdown",
   "id": "a09233e4",
   "metadata": {},
   "source": [
    "# <a id=\"analyse_aide_alimentaire\"></a>\n",
    "<div style=\"border: 1px solid RGB(0,150,250);\" >\n",
    "<h3 style=\"margin: auto; padding: 20px; color: RGB(0,150,250); \">2.3 - Analyse exploratoire du fichier aide alimentaire</h3>\n",
    "</div>"
   ]
  },
  {
   "cell_type": "code",
   "execution_count": 24,
   "id": "702f6322",
   "metadata": {},
   "outputs": [
    {
     "name": "stdout",
     "output_type": "stream",
     "text": [
      "Le tableau population comporte 1475 observation(s) ou article(s)\n",
      "Le tableau population comporte 4 colonne(s)\n"
     ]
    }
   ],
   "source": [
    "#Afficher les dimensions du dataset\n",
    "\n",
    "print(\"Le tableau population comporte {} observation(s) ou article(s)\".format(aide_alimentaire.shape[0]))\n",
    "print(\"Le tableau population comporte {} colonne(s)\".format(aide_alimentaire.shape[1]))"
   ]
  },
  {
   "cell_type": "code",
   "execution_count": 25,
   "id": "8fead3f9",
   "metadata": {},
   "outputs": [
    {
     "data": {
      "text/plain": [
       "Pays bénéficiaire    object\n",
       "Année                 int64\n",
       "Produit              object\n",
       "Valeur                int64\n",
       "dtype: object"
      ]
     },
     "execution_count": 25,
     "metadata": {},
     "output_type": "execute_result"
    }
   ],
   "source": [
    "#Consulter le nombre de colonnes\n",
    "\n",
    "aide_alimentaire.dtypes"
   ]
  },
  {
   "cell_type": "code",
   "execution_count": 26,
   "id": "7ada2ff3",
   "metadata": {},
   "outputs": [
    {
     "data": {
      "text/plain": [
       "Index(['Pays bénéficiaire', 'Année', 'Produit', 'Valeur'], dtype='object')"
      ]
     },
     "execution_count": 26,
     "metadata": {},
     "output_type": "execute_result"
    }
   ],
   "source": [
    "#Consulter le nombre de colonnes\n",
    "\n",
    "aide_alimentaire.columns"
   ]
  },
  {
   "cell_type": "code",
   "execution_count": 27,
   "id": "20df4c9c",
   "metadata": {},
   "outputs": [
    {
     "data": {
      "text/plain": [
       "Pays bénéficiaire    0\n",
       "Année                0\n",
       "Produit              0\n",
       "Valeur               0\n",
       "dtype: int64"
      ]
     },
     "execution_count": 27,
     "metadata": {},
     "output_type": "execute_result"
    }
   ],
   "source": [
    "#Combien de valeurs manquantes\n",
    "\n",
    "aide_alimentaire.isna().sum()"
   ]
  },
  {
   "cell_type": "code",
   "execution_count": 28,
   "id": "1c724129",
   "metadata": {},
   "outputs": [
    {
     "data": {
      "text/html": [
       "<div>\n",
       "<style scoped>\n",
       "    .dataframe tbody tr th:only-of-type {\n",
       "        vertical-align: middle;\n",
       "    }\n",
       "\n",
       "    .dataframe tbody tr th {\n",
       "        vertical-align: top;\n",
       "    }\n",
       "\n",
       "    .dataframe thead th {\n",
       "        text-align: right;\n",
       "    }\n",
       "</style>\n",
       "<table border=\"1\" class=\"dataframe\">\n",
       "  <thead>\n",
       "    <tr style=\"text-align: right;\">\n",
       "      <th></th>\n",
       "      <th>Pays bénéficiaire</th>\n",
       "      <th>Année</th>\n",
       "      <th>Produit</th>\n",
       "      <th>Valeur</th>\n",
       "    </tr>\n",
       "  </thead>\n",
       "  <tbody>\n",
       "  </tbody>\n",
       "</table>\n",
       "</div>"
      ],
      "text/plain": [
       "Empty DataFrame\n",
       "Columns: [Pays bénéficiaire, Année, Produit, Valeur]\n",
       "Index: []"
      ]
     },
     "execution_count": 28,
     "metadata": {},
     "output_type": "execute_result"
    }
   ],
   "source": [
    "aide_alimentaire[aide_alimentaire.duplicated()]"
   ]
  },
  {
   "cell_type": "code",
   "execution_count": 29,
   "id": "443ec245",
   "metadata": {},
   "outputs": [
    {
     "data": {
      "text/html": [
       "<div>\n",
       "<style scoped>\n",
       "    .dataframe tbody tr th:only-of-type {\n",
       "        vertical-align: middle;\n",
       "    }\n",
       "\n",
       "    .dataframe tbody tr th {\n",
       "        vertical-align: top;\n",
       "    }\n",
       "\n",
       "    .dataframe thead th {\n",
       "        text-align: right;\n",
       "    }\n",
       "</style>\n",
       "<table border=\"1\" class=\"dataframe\">\n",
       "  <thead>\n",
       "    <tr style=\"text-align: right;\">\n",
       "      <th></th>\n",
       "      <th>Pays bénéficiaire</th>\n",
       "      <th>Année</th>\n",
       "      <th>Produit</th>\n",
       "      <th>Valeur</th>\n",
       "    </tr>\n",
       "  </thead>\n",
       "  <tbody>\n",
       "    <tr>\n",
       "      <th>0</th>\n",
       "      <td>Afghanistan</td>\n",
       "      <td>2013</td>\n",
       "      <td>Autres non-céréales</td>\n",
       "      <td>682</td>\n",
       "    </tr>\n",
       "    <tr>\n",
       "      <th>1</th>\n",
       "      <td>Afghanistan</td>\n",
       "      <td>2014</td>\n",
       "      <td>Autres non-céréales</td>\n",
       "      <td>335</td>\n",
       "    </tr>\n",
       "    <tr>\n",
       "      <th>2</th>\n",
       "      <td>Afghanistan</td>\n",
       "      <td>2013</td>\n",
       "      <td>Blé et Farin</td>\n",
       "      <td>39224</td>\n",
       "    </tr>\n",
       "    <tr>\n",
       "      <th>3</th>\n",
       "      <td>Afghanistan</td>\n",
       "      <td>2014</td>\n",
       "      <td>Blé et Farin</td>\n",
       "      <td>15160</td>\n",
       "    </tr>\n",
       "    <tr>\n",
       "      <th>4</th>\n",
       "      <td>Afghanistan</td>\n",
       "      <td>2013</td>\n",
       "      <td>Céréales</td>\n",
       "      <td>40504</td>\n",
       "    </tr>\n",
       "  </tbody>\n",
       "</table>\n",
       "</div>"
      ],
      "text/plain": [
       "  Pays bénéficiaire  Année              Produit  Valeur\n",
       "0       Afghanistan   2013  Autres non-céréales     682\n",
       "1       Afghanistan   2014  Autres non-céréales     335\n",
       "2       Afghanistan   2013         Blé et Farin   39224\n",
       "3       Afghanistan   2014         Blé et Farin   15160\n",
       "4       Afghanistan   2013             Céréales   40504"
      ]
     },
     "execution_count": 29,
     "metadata": {},
     "output_type": "execute_result"
    }
   ],
   "source": [
    "#Affichage les 5 premières lignes de la table\n",
    "\n",
    "aide_alimentaire.head()"
   ]
  },
  {
   "cell_type": "code",
   "execution_count": 30,
   "id": "af47212b",
   "metadata": {},
   "outputs": [],
   "source": [
    "#changement du nom de la colonne Pays bénéficiaire par Zone\n",
    "\n",
    "aide_alimentaire.rename(columns={'Pays bénéficiaire': 'Zone'}, inplace=True)"
   ]
  },
  {
   "cell_type": "code",
   "execution_count": 31,
   "id": "c32cd1d8",
   "metadata": {},
   "outputs": [],
   "source": [
    "#Multiplication de la colonne Aide_alimentaire qui contient des tonnes par 1000 pour avoir des kg\n",
    "\n",
    "aide_alimentaire['Valeur'] *= 1000"
   ]
  },
  {
   "cell_type": "code",
   "execution_count": 32,
   "id": "d951d8df",
   "metadata": {},
   "outputs": [
    {
     "data": {
      "text/html": [
       "<div>\n",
       "<style scoped>\n",
       "    .dataframe tbody tr th:only-of-type {\n",
       "        vertical-align: middle;\n",
       "    }\n",
       "\n",
       "    .dataframe tbody tr th {\n",
       "        vertical-align: top;\n",
       "    }\n",
       "\n",
       "    .dataframe thead th {\n",
       "        text-align: right;\n",
       "    }\n",
       "</style>\n",
       "<table border=\"1\" class=\"dataframe\">\n",
       "  <thead>\n",
       "    <tr style=\"text-align: right;\">\n",
       "      <th></th>\n",
       "      <th>Zone</th>\n",
       "      <th>Année</th>\n",
       "      <th>Produit</th>\n",
       "      <th>Valeur</th>\n",
       "    </tr>\n",
       "  </thead>\n",
       "  <tbody>\n",
       "    <tr>\n",
       "      <th>0</th>\n",
       "      <td>Afghanistan</td>\n",
       "      <td>2013</td>\n",
       "      <td>Autres non-céréales</td>\n",
       "      <td>682000</td>\n",
       "    </tr>\n",
       "    <tr>\n",
       "      <th>1</th>\n",
       "      <td>Afghanistan</td>\n",
       "      <td>2014</td>\n",
       "      <td>Autres non-céréales</td>\n",
       "      <td>335000</td>\n",
       "    </tr>\n",
       "    <tr>\n",
       "      <th>2</th>\n",
       "      <td>Afghanistan</td>\n",
       "      <td>2013</td>\n",
       "      <td>Blé et Farin</td>\n",
       "      <td>39224000</td>\n",
       "    </tr>\n",
       "    <tr>\n",
       "      <th>3</th>\n",
       "      <td>Afghanistan</td>\n",
       "      <td>2014</td>\n",
       "      <td>Blé et Farin</td>\n",
       "      <td>15160000</td>\n",
       "    </tr>\n",
       "    <tr>\n",
       "      <th>4</th>\n",
       "      <td>Afghanistan</td>\n",
       "      <td>2013</td>\n",
       "      <td>Céréales</td>\n",
       "      <td>40504000</td>\n",
       "    </tr>\n",
       "  </tbody>\n",
       "</table>\n",
       "</div>"
      ],
      "text/plain": [
       "          Zone  Année              Produit    Valeur\n",
       "0  Afghanistan   2013  Autres non-céréales    682000\n",
       "1  Afghanistan   2014  Autres non-céréales    335000\n",
       "2  Afghanistan   2013         Blé et Farin  39224000\n",
       "3  Afghanistan   2014         Blé et Farin  15160000\n",
       "4  Afghanistan   2013             Céréales  40504000"
      ]
     },
     "execution_count": 32,
     "metadata": {},
     "output_type": "execute_result"
    }
   ],
   "source": [
    "#Affichage les 5 premières lignes de la table\n",
    "\n",
    "aide_alimentaire.head()"
   ]
  },
  {
   "cell_type": "markdown",
   "id": "eeae9043",
   "metadata": {},
   "source": [
    "# <a id=\"analyse_sous_nutrition\"></a>\n",
    "<div style=\"border: 1px solid RGB(0,150,250);\" >\n",
    "<h3 style=\"margin: auto; padding: 20px; color: RGB(0,150,250); \">2.4 - Analyse exploratoire du fichier sous nutrition</h3>\n",
    "</div>"
   ]
  },
  {
   "cell_type": "code",
   "execution_count": 33,
   "id": "882add3d",
   "metadata": {},
   "outputs": [
    {
     "name": "stdout",
     "output_type": "stream",
     "text": [
      "Le tableau population comporte 1218 observation(s) ou article(s)\n",
      "Le tableau population comporte 3 colonne(s)\n"
     ]
    }
   ],
   "source": [
    "#Afficher les dimensions du dataset\n",
    "\n",
    "print(\"Le tableau population comporte {} observation(s) ou article(s)\".format(sous_nutrition.shape[0]))\n",
    "print(\"Le tableau population comporte {} colonne(s)\".format(sous_nutrition.shape[1]))"
   ]
  },
  {
   "cell_type": "code",
   "execution_count": 34,
   "id": "ab782c59",
   "metadata": {},
   "outputs": [
    {
     "data": {
      "text/plain": [
       "Zone      object\n",
       "Année     object\n",
       "Valeur    object\n",
       "dtype: object"
      ]
     },
     "execution_count": 34,
     "metadata": {},
     "output_type": "execute_result"
    }
   ],
   "source": [
    "#La nature des données dans chacune des colonnes\n",
    "\n",
    "sous_nutrition.dtypes"
   ]
  },
  {
   "cell_type": "code",
   "execution_count": 35,
   "id": "70c1a7a9",
   "metadata": {},
   "outputs": [
    {
     "data": {
      "text/plain": [
       "Index(['Zone', 'Année', 'Valeur'], dtype='object')"
      ]
     },
     "execution_count": 35,
     "metadata": {},
     "output_type": "execute_result"
    }
   ],
   "source": [
    "#Consulter le nombre de colonnes\n",
    "\n",
    "sous_nutrition.columns"
   ]
  },
  {
   "cell_type": "code",
   "execution_count": 36,
   "id": "345c8bca",
   "metadata": {},
   "outputs": [
    {
     "data": {
      "text/plain": [
       "Zone        0\n",
       "Année       0\n",
       "Valeur    594\n",
       "dtype: int64"
      ]
     },
     "execution_count": 36,
     "metadata": {},
     "output_type": "execute_result"
    }
   ],
   "source": [
    "#Combien de valeurs manquantes\n",
    "\n",
    "sous_nutrition.isna().sum()"
   ]
  },
  {
   "cell_type": "code",
   "execution_count": 37,
   "id": "33b199ce",
   "metadata": {},
   "outputs": [
    {
     "data": {
      "text/html": [
       "<div>\n",
       "<style scoped>\n",
       "    .dataframe tbody tr th:only-of-type {\n",
       "        vertical-align: middle;\n",
       "    }\n",
       "\n",
       "    .dataframe tbody tr th {\n",
       "        vertical-align: top;\n",
       "    }\n",
       "\n",
       "    .dataframe thead th {\n",
       "        text-align: right;\n",
       "    }\n",
       "</style>\n",
       "<table border=\"1\" class=\"dataframe\">\n",
       "  <thead>\n",
       "    <tr style=\"text-align: right;\">\n",
       "      <th></th>\n",
       "      <th>Zone</th>\n",
       "      <th>Année</th>\n",
       "      <th>Valeur</th>\n",
       "    </tr>\n",
       "  </thead>\n",
       "  <tbody>\n",
       "  </tbody>\n",
       "</table>\n",
       "</div>"
      ],
      "text/plain": [
       "Empty DataFrame\n",
       "Columns: [Zone, Année, Valeur]\n",
       "Index: []"
      ]
     },
     "execution_count": 37,
     "metadata": {},
     "output_type": "execute_result"
    }
   ],
   "source": [
    "#Vérification des doublons \n",
    "\n",
    "sous_nutrition[sous_nutrition.duplicated()]"
   ]
  },
  {
   "cell_type": "code",
   "execution_count": 38,
   "id": "5c6469e5",
   "metadata": {},
   "outputs": [
    {
     "data": {
      "text/html": [
       "<div>\n",
       "<style scoped>\n",
       "    .dataframe tbody tr th:only-of-type {\n",
       "        vertical-align: middle;\n",
       "    }\n",
       "\n",
       "    .dataframe tbody tr th {\n",
       "        vertical-align: top;\n",
       "    }\n",
       "\n",
       "    .dataframe thead th {\n",
       "        text-align: right;\n",
       "    }\n",
       "</style>\n",
       "<table border=\"1\" class=\"dataframe\">\n",
       "  <thead>\n",
       "    <tr style=\"text-align: right;\">\n",
       "      <th></th>\n",
       "      <th>Zone</th>\n",
       "      <th>Année</th>\n",
       "      <th>Valeur</th>\n",
       "    </tr>\n",
       "  </thead>\n",
       "  <tbody>\n",
       "    <tr>\n",
       "      <th>0</th>\n",
       "      <td>Afghanistan</td>\n",
       "      <td>2012-2014</td>\n",
       "      <td>8.6</td>\n",
       "    </tr>\n",
       "    <tr>\n",
       "      <th>1</th>\n",
       "      <td>Afghanistan</td>\n",
       "      <td>2013-2015</td>\n",
       "      <td>8.8</td>\n",
       "    </tr>\n",
       "    <tr>\n",
       "      <th>2</th>\n",
       "      <td>Afghanistan</td>\n",
       "      <td>2014-2016</td>\n",
       "      <td>8.9</td>\n",
       "    </tr>\n",
       "    <tr>\n",
       "      <th>3</th>\n",
       "      <td>Afghanistan</td>\n",
       "      <td>2015-2017</td>\n",
       "      <td>9.7</td>\n",
       "    </tr>\n",
       "    <tr>\n",
       "      <th>4</th>\n",
       "      <td>Afghanistan</td>\n",
       "      <td>2016-2018</td>\n",
       "      <td>10.5</td>\n",
       "    </tr>\n",
       "  </tbody>\n",
       "</table>\n",
       "</div>"
      ],
      "text/plain": [
       "          Zone      Année Valeur\n",
       "0  Afghanistan  2012-2014    8.6\n",
       "1  Afghanistan  2013-2015    8.8\n",
       "2  Afghanistan  2014-2016    8.9\n",
       "3  Afghanistan  2015-2017    9.7\n",
       "4  Afghanistan  2016-2018   10.5"
      ]
     },
     "execution_count": 38,
     "metadata": {},
     "output_type": "execute_result"
    }
   ],
   "source": [
    "#Afficher les 5 premières lignes de la table\n",
    "\n",
    "sous_nutrition.head()"
   ]
  },
  {
   "cell_type": "code",
   "execution_count": 39,
   "id": "2617141b",
   "metadata": {},
   "outputs": [
    {
     "data": {
      "text/plain": [
       "Zone        0\n",
       "Année       0\n",
       "Valeur    594\n",
       "dtype: int64"
      ]
     },
     "execution_count": 39,
     "metadata": {},
     "output_type": "execute_result"
    }
   ],
   "source": [
    "sous_nutrition.isna().sum()"
   ]
  },
  {
   "cell_type": "code",
   "execution_count": 40,
   "id": "11b6a6c8",
   "metadata": {},
   "outputs": [],
   "source": [
    "#Conversion de la colonne sous nutrition en numérique\n",
    "#Conversion de la colonne (avec l'argument errors=coerce qui permet de convertir automatiquement les lignes qui ne sont pas des nombres en NaN)\n",
    "#Puis remplacement des NaN en 0\n",
    "\n",
    "sous_nutrition['Valeur'] = pd.to_numeric(sous_nutrition['Valeur'], errors='coerce')"
   ]
  },
  {
   "cell_type": "code",
   "execution_count": 41,
   "id": "88b4fe44",
   "metadata": {},
   "outputs": [
    {
     "data": {
      "text/plain": [
       "Zone        0\n",
       "Année       0\n",
       "Valeur    714\n",
       "dtype: int64"
      ]
     },
     "execution_count": 41,
     "metadata": {},
     "output_type": "execute_result"
    }
   ],
   "source": [
    "sous_nutrition.isna().sum()"
   ]
  },
  {
   "cell_type": "code",
   "execution_count": 42,
   "id": "d31d2724",
   "metadata": {},
   "outputs": [],
   "source": [
    "#Puis remplacement des NaN en 0\n",
    "\n",
    "sous_nutrition = sous_nutrition.fillna(0)"
   ]
  },
  {
   "cell_type": "code",
   "execution_count": 43,
   "id": "34c98232",
   "metadata": {},
   "outputs": [
    {
     "data": {
      "text/html": [
       "<div>\n",
       "<style scoped>\n",
       "    .dataframe tbody tr th:only-of-type {\n",
       "        vertical-align: middle;\n",
       "    }\n",
       "\n",
       "    .dataframe tbody tr th {\n",
       "        vertical-align: top;\n",
       "    }\n",
       "\n",
       "    .dataframe thead th {\n",
       "        text-align: right;\n",
       "    }\n",
       "</style>\n",
       "<table border=\"1\" class=\"dataframe\">\n",
       "  <thead>\n",
       "    <tr style=\"text-align: right;\">\n",
       "      <th></th>\n",
       "      <th>Zone</th>\n",
       "      <th>Année</th>\n",
       "      <th>sous_nutrition</th>\n",
       "    </tr>\n",
       "  </thead>\n",
       "  <tbody>\n",
       "    <tr>\n",
       "      <th>0</th>\n",
       "      <td>Afghanistan</td>\n",
       "      <td>2012-2014</td>\n",
       "      <td>8.6</td>\n",
       "    </tr>\n",
       "    <tr>\n",
       "      <th>1</th>\n",
       "      <td>Afghanistan</td>\n",
       "      <td>2013-2015</td>\n",
       "      <td>8.8</td>\n",
       "    </tr>\n",
       "    <tr>\n",
       "      <th>2</th>\n",
       "      <td>Afghanistan</td>\n",
       "      <td>2014-2016</td>\n",
       "      <td>8.9</td>\n",
       "    </tr>\n",
       "    <tr>\n",
       "      <th>3</th>\n",
       "      <td>Afghanistan</td>\n",
       "      <td>2015-2017</td>\n",
       "      <td>9.7</td>\n",
       "    </tr>\n",
       "    <tr>\n",
       "      <th>4</th>\n",
       "      <td>Afghanistan</td>\n",
       "      <td>2016-2018</td>\n",
       "      <td>10.5</td>\n",
       "    </tr>\n",
       "  </tbody>\n",
       "</table>\n",
       "</div>"
      ],
      "text/plain": [
       "          Zone      Année  sous_nutrition\n",
       "0  Afghanistan  2012-2014             8.6\n",
       "1  Afghanistan  2013-2015             8.8\n",
       "2  Afghanistan  2014-2016             8.9\n",
       "3  Afghanistan  2015-2017             9.7\n",
       "4  Afghanistan  2016-2018            10.5"
      ]
     },
     "execution_count": 43,
     "metadata": {},
     "output_type": "execute_result"
    }
   ],
   "source": [
    "#changement du nom de la colonne Valeur par sous_nutrition\n",
    "\n",
    "sous_nutrition.rename(columns={'Valeur': 'sous_nutrition'}, inplace=True)\n",
    "sous_nutrition.head()"
   ]
  },
  {
   "cell_type": "code",
   "execution_count": 44,
   "id": "002110fa",
   "metadata": {},
   "outputs": [],
   "source": [
    "#Multiplication de la colonne sous_nutrition par 1000000\n",
    "\n",
    "sous_nutrition['sous_nutrition'] *= 1000000"
   ]
  },
  {
   "cell_type": "code",
   "execution_count": 45,
   "id": "03ffa023",
   "metadata": {},
   "outputs": [],
   "source": [
    "# Séparation des années en deux colonnes distinctes\n",
    "\n",
    "sous_nutrition[['annee_debut', 'annee_fin']] = sous_nutrition['Année'].str.split('-', expand=True)\n",
    "\n",
    "# Conversion des colonnes en type numérique\n",
    "\n",
    "sous_nutrition[['annee_debut', 'annee_fin']] = sous_nutrition[['annee_debut', 'annee_fin']].apply(pd.to_numeric, downcast='integer')\n",
    "\n",
    "# Calcul de la moyenne entre les deux colonnes\n",
    "\n",
    "sous_nutrition['Année_moyenne'] = (sous_nutrition['annee_debut'] + sous_nutrition['annee_fin']) // 2"
   ]
  },
  {
   "cell_type": "code",
   "execution_count": 46,
   "id": "afbae291",
   "metadata": {},
   "outputs": [],
   "source": [
    "#Suppression des colonnes qui ne sont plus necessaires\n",
    "\n",
    "sous_nutrition.drop(['Année', 'annee_debut', 'annee_fin'], axis=1, inplace=True)"
   ]
  },
  {
   "cell_type": "code",
   "execution_count": 47,
   "id": "f748be9f",
   "metadata": {},
   "outputs": [],
   "source": [
    "#renommer la colonne Année_moyenne en Année\n",
    "\n",
    "sous_nutrition.rename(columns={'Année_moyenne': 'Année'}, inplace=True)"
   ]
  },
  {
   "cell_type": "code",
   "execution_count": 48,
   "id": "181296e1",
   "metadata": {},
   "outputs": [
    {
     "data": {
      "text/plain": [
       "2018"
      ]
     },
     "execution_count": 48,
     "metadata": {},
     "output_type": "execute_result"
    }
   ],
   "source": [
    "#Valeur max de la colonne \"Année\"\n",
    "\n",
    "sous_nutrition['Année'].max()"
   ]
  },
  {
   "cell_type": "code",
   "execution_count": 49,
   "id": "cbf610cd",
   "metadata": {},
   "outputs": [
    {
     "data": {
      "text/plain": [
       "2013"
      ]
     },
     "execution_count": 49,
     "metadata": {},
     "output_type": "execute_result"
    }
   ],
   "source": [
    "#Valeur min de la colonne \"Année\"\n",
    "\n",
    "sous_nutrition['Année'].min()"
   ]
  },
  {
   "cell_type": "code",
   "execution_count": 50,
   "id": "58259b55",
   "metadata": {},
   "outputs": [
    {
     "data": {
      "text/html": [
       "<div>\n",
       "<style scoped>\n",
       "    .dataframe tbody tr th:only-of-type {\n",
       "        vertical-align: middle;\n",
       "    }\n",
       "\n",
       "    .dataframe tbody tr th {\n",
       "        vertical-align: top;\n",
       "    }\n",
       "\n",
       "    .dataframe thead th {\n",
       "        text-align: right;\n",
       "    }\n",
       "</style>\n",
       "<table border=\"1\" class=\"dataframe\">\n",
       "  <thead>\n",
       "    <tr style=\"text-align: right;\">\n",
       "      <th></th>\n",
       "      <th>Zone</th>\n",
       "      <th>sous_nutrition</th>\n",
       "      <th>Année</th>\n",
       "    </tr>\n",
       "  </thead>\n",
       "  <tbody>\n",
       "    <tr>\n",
       "      <th>0</th>\n",
       "      <td>Afghanistan</td>\n",
       "      <td>8600000.0</td>\n",
       "      <td>2013</td>\n",
       "    </tr>\n",
       "    <tr>\n",
       "      <th>1</th>\n",
       "      <td>Afghanistan</td>\n",
       "      <td>8800000.0</td>\n",
       "      <td>2014</td>\n",
       "    </tr>\n",
       "    <tr>\n",
       "      <th>2</th>\n",
       "      <td>Afghanistan</td>\n",
       "      <td>8900000.0</td>\n",
       "      <td>2015</td>\n",
       "    </tr>\n",
       "    <tr>\n",
       "      <th>3</th>\n",
       "      <td>Afghanistan</td>\n",
       "      <td>9700000.0</td>\n",
       "      <td>2016</td>\n",
       "    </tr>\n",
       "    <tr>\n",
       "      <th>4</th>\n",
       "      <td>Afghanistan</td>\n",
       "      <td>10500000.0</td>\n",
       "      <td>2017</td>\n",
       "    </tr>\n",
       "  </tbody>\n",
       "</table>\n",
       "</div>"
      ],
      "text/plain": [
       "          Zone  sous_nutrition  Année\n",
       "0  Afghanistan       8600000.0   2013\n",
       "1  Afghanistan       8800000.0   2014\n",
       "2  Afghanistan       8900000.0   2015\n",
       "3  Afghanistan       9700000.0   2016\n",
       "4  Afghanistan      10500000.0   2017"
      ]
     },
     "execution_count": 50,
     "metadata": {},
     "output_type": "execute_result"
    }
   ],
   "source": [
    "#Afficher les 5 premières lignes de la table\n",
    "\n",
    "sous_nutrition.head()"
   ]
  },
  {
   "cell_type": "markdown",
   "id": "1da557f1",
   "metadata": {},
   "source": [
    "# <a id=\"etape3\"></a>\n",
    "<div style=\"background-color: RGB(0,150,250);\" >\n",
    "<h2 style=\"margin: auto; padding: 20px; color:#fff; \">Etape 3 - Analyse et calculs</h2>\n",
    "</div>"
   ]
  },
  {
   "cell_type": "markdown",
   "id": "df6dcabd",
   "metadata": {},
   "source": [
    "# <a id=\"proportion_sous_nutrition\"></a>\n",
    "<div style=\"border: 1px solid RGB(0,150,250);\" >\n",
    "<h3 style=\"margin: auto; padding: 20px; color: RGB(0,150,250); \">3.1 - Proportion de personnes en sous nutrition</h3>\n",
    "</div>"
   ]
  },
  {
   "cell_type": "code",
   "execution_count": 51,
   "id": "23700c94",
   "metadata": {},
   "outputs": [
    {
     "name": "stdout",
     "output_type": "stream",
     "text": [
      "                                        Zone  Année  Population\n",
      "4                                Afghanistan   2017  36296113.0\n",
      "10                            Afrique du Sud   2017  57009756.0\n",
      "16                                   Albanie   2017   2884169.0\n",
      "22                                   Algérie   2017  41389189.0\n",
      "28                                 Allemagne   2017  82658409.0\n",
      "...                                      ...    ...         ...\n",
      "1390  Venezuela (République bolivarienne du)   2017  29402484.0\n",
      "1396                                Viet Nam   2017  94600648.0\n",
      "1402                                   Yémen   2017  27834819.0\n",
      "1408                                  Zambie   2017  16853599.0\n",
      "1414                                Zimbabwe   2017  14236595.0\n",
      "\n",
      "[236 rows x 3 columns]\n"
     ]
    }
   ],
   "source": [
    "#Filtre par année du dataframe population en conservant uniquement 2017\n",
    "\n",
    "pop_filtre_2017 = population[population['Année']==2017]\n",
    "\n",
    "print(pop_filtre_2017)"
   ]
  },
  {
   "cell_type": "code",
   "execution_count": 52,
   "id": "142403ad",
   "metadata": {},
   "outputs": [
    {
     "data": {
      "text/plain": [
       "7548134111.0"
      ]
     },
     "execution_count": 52,
     "metadata": {},
     "output_type": "execute_result"
    }
   ],
   "source": [
    "population_mondiale_2017 = pop_filtre_2017['Population'].sum()\n",
    "population_mondiale_2017"
   ]
  },
  {
   "cell_type": "code",
   "execution_count": 53,
   "id": "f1b52ca2",
   "metadata": {},
   "outputs": [
    {
     "name": "stdout",
     "output_type": "stream",
     "text": [
      "                                        Zone  sous_nutrition  Année\n",
      "4                                Afghanistan      10500000.0   2017\n",
      "10                            Afrique du Sud       3100000.0   2017\n",
      "16                                   Albanie        100000.0   2017\n",
      "22                                   Algérie       1300000.0   2017\n",
      "28                                 Allemagne             0.0   2017\n",
      "...                                      ...             ...    ...\n",
      "1192  Venezuela (République bolivarienne du)       8000000.0   2017\n",
      "1198                                Viet Nam       6500000.0   2017\n",
      "1204                                   Yémen             0.0   2017\n",
      "1210                                  Zambie             0.0   2017\n",
      "1216                                Zimbabwe             0.0   2017\n",
      "\n",
      "[203 rows x 3 columns]\n"
     ]
    }
   ],
   "source": [
    "#Filtre par année du dataframe sous_nutrition en conservant uniquement 2017\n",
    "\n",
    "sous_nutrition_2017 = sous_nutrition[sous_nutrition['Année']==2017]\n",
    "\n",
    "print(sous_nutrition_2017)"
   ]
  },
  {
   "cell_type": "code",
   "execution_count": 54,
   "id": "a63e1567",
   "metadata": {},
   "outputs": [],
   "source": [
    "# Il faut tout d'abord faire une jointure entre la table population et la table sous nutrition, en ciblant l'année 2017\n",
    "#filtre LEFT pour avoir les 236 pays de DF population dans le dataframe de sortie\n",
    "\n",
    "popu_sous_nutri_2017 = pd.merge(pop_filtre_2017, sous_nutrition_2017, on='Zone', how='left')"
   ]
  },
  {
   "cell_type": "code",
   "execution_count": 55,
   "id": "731eea39",
   "metadata": {},
   "outputs": [
    {
     "name": "stdout",
     "output_type": "stream",
     "text": [
      "                                       Zone  Année_x  Population  \\\n",
      "0                               Afghanistan     2017  36296113.0   \n",
      "1                            Afrique du Sud     2017  57009756.0   \n",
      "2                                   Albanie     2017   2884169.0   \n",
      "3                                   Algérie     2017  41389189.0   \n",
      "4                                 Allemagne     2017  82658409.0   \n",
      "..                                      ...      ...         ...   \n",
      "231  Venezuela (République bolivarienne du)     2017  29402484.0   \n",
      "232                                Viet Nam     2017  94600648.0   \n",
      "233                                   Yémen     2017  27834819.0   \n",
      "234                                  Zambie     2017  16853599.0   \n",
      "235                                Zimbabwe     2017  14236595.0   \n",
      "\n",
      "     sous_nutrition  Année_y  \n",
      "0        10500000.0   2017.0  \n",
      "1         3100000.0   2017.0  \n",
      "2          100000.0   2017.0  \n",
      "3         1300000.0   2017.0  \n",
      "4               0.0   2017.0  \n",
      "..              ...      ...  \n",
      "231       8000000.0   2017.0  \n",
      "232       6500000.0   2017.0  \n",
      "233             0.0   2017.0  \n",
      "234             0.0   2017.0  \n",
      "235             0.0   2017.0  \n",
      "\n",
      "[236 rows x 5 columns]\n"
     ]
    }
   ],
   "source": [
    "#Affichage du dataset\n",
    "\n",
    "print(popu_sous_nutri_2017)"
   ]
  },
  {
   "cell_type": "code",
   "execution_count": 56,
   "id": "b2b2ee1a",
   "metadata": {},
   "outputs": [],
   "source": [
    "popu_sous_nutri_2017.drop(['Année_y'], axis=1, inplace=True)"
   ]
  },
  {
   "cell_type": "code",
   "execution_count": 57,
   "id": "a668fe51",
   "metadata": {},
   "outputs": [],
   "source": [
    "popu_sous_nutri_2017.rename(columns={'Année_x':'Année'}, inplace=True)"
   ]
  },
  {
   "cell_type": "code",
   "execution_count": 58,
   "id": "28e2741f",
   "metadata": {},
   "outputs": [
    {
     "name": "stdout",
     "output_type": "stream",
     "text": [
      "Le nombre de personnes en état de sous nutrition dans le monde en 2017 est de: 535700000.0\n"
     ]
    }
   ],
   "source": [
    "#Calcul et affichage du nombre de personnes en état de sous nutrition\n",
    "\n",
    "Sum_popu_sous_nutri = popu_sous_nutri_2017['sous_nutrition'].sum()\n",
    "\n",
    "print(\"Le nombre de personnes en état de sous nutrition dans le monde en 2017 est de:\", Sum_popu_sous_nutri)\n"
   ]
  },
  {
   "cell_type": "code",
   "execution_count": 59,
   "id": "92544963",
   "metadata": {},
   "outputs": [
    {
     "data": {
      "image/png": "[encoded data removed]",
      "text/plain": [
       "<Figure size 640x480 with 1 Axes>"
      ]
     },
     "metadata": {},
     "output_type": "display_data"
    }
   ],
   "source": [
    "#Création du pie chart\n",
    "\n",
    "popu_mondiale = popu_sous_nutri_2017['Population'].sum()\n",
    "popu_mondiale_OK = popu_mondiale - Sum_popu_sous_nutri\n",
    "\n",
    "plt.pie([Sum_popu_sous_nutri, popu_mondiale_OK], labels=['Population en état de sous nutrition', 'Population mondiale'], autopct='%.1f %%')\n",
    "\n",
    "plt.title('Répartition de la population en état de sous nutrition en 2017')\n",
    "plt.savefig('population en sous nutrition.png')\n",
    "plt.show()"
   ]
  },
  {
   "cell_type": "markdown",
   "id": "b4134a24",
   "metadata": {},
   "source": [
    "# <a id=\"nombre_theorique_personnes\"></a>\n",
    "<div style=\"border: 1px solid RGB(0,150,250);\" >\n",
    "<h3 style=\"margin: auto; padding: 20px; color: RGB(0,150,250); \">3.2 - Nombre théorique de personne qui pourrait être nourries</h3>\n",
    "</div>"
   ]
  },
  {
   "cell_type": "code",
   "execution_count": 60,
   "id": "2b63df85",
   "metadata": {},
   "outputs": [],
   "source": [
    "#Combien mange en moyenne un être humain ? 2400 kcal/jour \n",
    "# Source => site OMS et ANSES\n",
    "# https://www.who.int/fr/news-room/fact-sheets/detail/healthy-diet\n",
    "# https://www.cerin.org/articles/references-nutritionnelles-pour-les-adultes/"
   ]
  },
  {
   "cell_type": "code",
   "execution_count": 61,
   "id": "5e3f262d",
   "metadata": {},
   "outputs": [],
   "source": [
    "#On commence par faire une jointure entre le data frame population et Dispo_alimentaire afin d'ajouter dans ce dernier la population\n",
    "\n",
    "dispo_alimentaire_population_2017 = pd.merge(pop_filtre_2017, dispo_alimentaire, how= 'left', on='Zone')"
   ]
  },
  {
   "cell_type": "code",
   "execution_count": 62,
   "id": "5305ba25",
   "metadata": {},
   "outputs": [],
   "source": [
    "#Création de la colonne dispo_kcal avec calcul des kcal disponibles mondialement\n",
    "\n",
    "dispo_alimentaire_population_2017['dispo_kcal'] = dispo_alimentaire_population_2017['Disponibilité alimentaire (Kcal/personne/jour)'] * dispo_alimentaire_population_2017['Population']"
   ]
  },
  {
   "cell_type": "code",
   "execution_count": 63,
   "id": "e399aac5",
   "metadata": {},
   "outputs": [
    {
     "name": "stdout",
     "output_type": "stream",
     "text": [
      "La disponibilité alimentaire mondiale(en kcal/jour) est de: 20918984627331.0\n"
     ]
    }
   ],
   "source": [
    "#Calcul de la disponibilité alimentaire mondiale\n",
    "\n",
    "dispo_kcal_monde = dispo_alimentaire_population_2017['dispo_kcal'].sum()\n",
    "\n",
    "print('La disponibilité alimentaire mondiale(en kcal/jour) est de:', dispo_kcal_monde)"
   ]
  },
  {
   "cell_type": "code",
   "execution_count": 64,
   "id": "45cfcd20",
   "metadata": {},
   "outputs": [
    {
     "name": "stdout",
     "output_type": "stream",
     "text": [
      "Le nombre théorique d'humains pouvant être nourris est de: 8716243594.72\n"
     ]
    }
   ],
   "source": [
    "#Calcul du nombre d'humains pouvant être nourris\n",
    "\n",
    "Nombre_humains_nourris = round(dispo_kcal_monde / 2400, 2)\n",
    "\n",
    "print(\"Le nombre théorique d'humains pouvant être nourris est de:\", Nombre_humains_nourris)"
   ]
  },
  {
   "cell_type": "code",
   "execution_count": 65,
   "id": "ce5eb820",
   "metadata": {},
   "outputs": [
    {
     "name": "stdout",
     "output_type": "stream",
     "text": [
      "Le nombre d'humains pouvant être nourris avec la production mondiale est de: 115.48\n"
     ]
    }
   ],
   "source": [
    "#pourcentage population pouvant etre nourris\n",
    "\n",
    "pourcentage_humains_nourris_total = round((Nombre_humains_nourris / population_mondiale_2017) * 100, 2)\n",
    "\n",
    "print(\"Le nombre d'humains pouvant être nourris avec la production mondiale est de:\", pourcentage_humains_nourris_total)"
   ]
  },
  {
   "cell_type": "markdown",
   "id": "e97c8886",
   "metadata": {},
   "source": [
    "# <a id=\"nombre_theorique_personnes_vegetaux)\"></a>\n",
    "<div style=\"border: 1px solid RGB(0,150,250);\" >\n",
    "<h3 style=\"margin: auto; padding: 20px; color: RGB(0,150,250); \">3.3 - Nombre théorique de personne qui pourrait être nourrie avec les produits végétaux</h3>\n",
    "</div>"
   ]
  },
  {
   "cell_type": "code",
   "execution_count": 66,
   "id": "c2e3c87c",
   "metadata": {},
   "outputs": [],
   "source": [
    "#Transfert des données avec les végétaux dans un nouveau dataframe\n",
    "\n",
    "dispo_al_pop_veg = dispo_alimentaire_population_2017[dispo_alimentaire_population_2017['Origine']== 'vegetale']"
   ]
  },
  {
   "cell_type": "code",
   "execution_count": 67,
   "id": "534f3ad7",
   "metadata": {},
   "outputs": [
    {
     "name": "stdout",
     "output_type": "stream",
     "text": [
      "La disponibilité alimentaire mondiale pour les végétaux(en kcal/an) est de: 17260764211501.0\n"
     ]
    }
   ],
   "source": [
    "#Calcul du nombre de kcal disponible pour les végétaux\n",
    "\n",
    "dispo_kcal_monde_veg = dispo_al_pop_veg['dispo_kcal'].sum()\n",
    "\n",
    "print('La disponibilité alimentaire mondiale pour les végétaux(en kcal/an) est de:', dispo_kcal_monde_veg)\n"
   ]
  },
  {
   "cell_type": "code",
   "execution_count": 68,
   "id": "8c82da41",
   "metadata": {},
   "outputs": [
    {
     "name": "stdout",
     "output_type": "stream",
     "text": [
      "Le nombre d'humains pouvant être nourris avec les végétaux est de: 7191985088.13\n"
     ]
    }
   ],
   "source": [
    "#Calcul du nombre d'humains pouvant être nourris avec les végétaux\n",
    "\n",
    "Nombre_humains_nourris_veg = round(dispo_kcal_monde_veg / 2400, 2)\n",
    "\n",
    "print(\"Le nombre d'humains pouvant être nourris avec les végétaux est de:\", Nombre_humains_nourris_veg)\n"
   ]
  },
  {
   "cell_type": "code",
   "execution_count": 69,
   "id": "9a3aa0dc",
   "metadata": {},
   "outputs": [
    {
     "name": "stdout",
     "output_type": "stream",
     "text": [
      "Le nombre d'humains pouvant être nourris uniquement avec des produits végétaux est de: 95.28\n"
     ]
    }
   ],
   "source": [
    "#pourcentage population pouvant etre nourris uniquement avec des vegetaux\n",
    "\n",
    "pourcentage_humains_nourris_veg = round((Nombre_humains_nourris_veg / population_mondiale_2017) * 100, 2)\n",
    "print(\"Le nombre d'humains pouvant être nourris uniquement avec des produits végétaux est de:\", pourcentage_humains_nourris_veg)"
   ]
  },
  {
   "cell_type": "markdown",
   "id": "cd07afb1",
   "metadata": {},
   "source": [
    "# <a id=\"utilisation_dispo_interieure\"></a>\n",
    "<div style=\"border: 1px solid RGB(0,150,250);\" >\n",
    "<h3 style=\"margin: auto; padding: 20px; color: RGB(0,150,250); \">3.4 - Utilisation de la disponibilité intérieure</h3>\n",
    "</div>"
   ]
  },
  {
   "cell_type": "raw",
   "id": "7284feef",
   "metadata": {},
   "source": [
    "Calcul de la disponibilité totale\n",
    "\n",
    "Production + Importations - Exportations + Variation de stock = Disponibilité intérieure = Semences + Pertes + Nourriture + Aliments pour animaux + Traitement + Autres utilisations\n",
    "\n"
   ]
  },
  {
   "cell_type": "code",
   "execution_count": 70,
   "id": "7f2c1da0",
   "metadata": {},
   "outputs": [],
   "source": [
    "#Création des variables\n",
    "\n",
    "total_dispo_interieure = dispo_alimentaire['Disponibilité intérieure'].sum()\n",
    "total_nourriture = dispo_alimentaire['Nourriture'].sum()\n",
    "total_pertes = dispo_alimentaire['Pertes'].sum()\n",
    "total_aliments_animaux = dispo_alimentaire['Aliments pour animaux'].sum()\n",
    "total_semences = dispo_alimentaire['Semences'].sum()\n",
    "total_traitement = dispo_alimentaire['Traitement'].sum()\n",
    "total_autres_utilisations = dispo_alimentaire['Autres Utilisations'].sum()\n",
    "\n"
   ]
  },
  {
   "cell_type": "code",
   "execution_count": 71,
   "id": "070d1f1e",
   "metadata": {},
   "outputs": [
    {
     "name": "stdout",
     "output_type": "stream",
     "text": [
      "La disponibilité intérieure mondiale est répartie comme suit:\n",
      "Nourriture: 49.51%\n",
      "Pertes: 4.61%\n",
      "Aliments pour animaux: 13.24%\n",
      "Semences: 1.57%\n",
      "Traitement: 22.38%\n",
      "Autres Utilisations: 8.78%\n"
     ]
    }
   ],
   "source": [
    "# Création d'un dictionnaire pour stocker les catégories et leurs totaux\n",
    "\n",
    "categories = {\n",
    "    'Nourriture': total_nourriture,\n",
    "    'Pertes': total_pertes,\n",
    "    'Aliments pour animaux': total_aliments_animaux,\n",
    "    'Semences': total_semences,\n",
    "    'Traitement': total_traitement,\n",
    "    'Autres Utilisations': total_autres_utilisations\n",
    "}\n",
    "\n",
    "# Calcul des pourcentages pour chaque catégorie en utilisant une boucle for\n",
    "\n",
    "pourcentages = {}\n",
    "for categorie, total in categories.items():\n",
    "    pourcentage = round((total / total_dispo_interieure) * 100, 2)\n",
    "    pourcentages[categorie] = pourcentage\n",
    "\n",
    "\n",
    "print('La disponibilité intérieure mondiale est répartie comme suit:')\n",
    "for categorie, pourcentage in pourcentages.items():\n",
    "    print(f\"{categorie}: {pourcentage}%\")"
   ]
  },
  {
   "cell_type": "code",
   "execution_count": 72,
   "id": "18b73ea3",
   "metadata": {},
   "outputs": [
    {
     "data": {
      "image/png": "[encoded data removed]",
      "text/plain": [
       "<Figure size 800x800 with 1 Axes>"
      ]
     },
     "metadata": {},
     "output_type": "display_data"
    }
   ],
   "source": [
    "# Création du pie chart\n",
    "\n",
    "plt.figure(figsize=(8, 8))\n",
    "plt.pie(pourcentages.values(), labels=pourcentages.keys(), autopct='%1.1f%%', startangle=140)\n",
    "plt.title('Répartition de la disponibilité intérieure en 2017')\n",
    "plt.axis('equal')  # Assure que le pie chart est dessiné en cercle\n",
    "\n",
    "plt.savefig('repartition_dispo_interieure_pie_chart.png')\n",
    "plt.show()"
   ]
  },
  {
   "cell_type": "markdown",
   "id": "141d05df",
   "metadata": {},
   "source": [
    "# <a id=\"utilisation_cereales\"></a>\n",
    "<div style=\"border: 1px solid RGB(0,150,250);\" >\n",
    "<h3 style=\"margin: auto; padding: 20px; color: RGB(0,150,250); \">3.5 - Utilisation des céréales</h3>\n",
    "</div>"
   ]
  },
  {
   "cell_type": "code",
   "execution_count": 73,
   "id": "c27448ff",
   "metadata": {},
   "outputs": [],
   "source": [
    "#Création d'une liste avec toutes les variables\n",
    "\n",
    "dispo_alimentaire_population_2017['Produit'].unique().tolist()\n",
    "céréales = ['Blé', 'Céréales, Autres', 'Maïs', 'Millet', 'Orge', 'Avoine', 'Seigle', 'Sorgho', 'Riz (Eq Blanchi)']"
   ]
  },
  {
   "cell_type": "code",
   "execution_count": 74,
   "id": "5dc5586d",
   "metadata": {},
   "outputs": [
    {
     "data": {
      "text/html": [
       "<div>\n",
       "<style scoped>\n",
       "    .dataframe tbody tr th:only-of-type {\n",
       "        vertical-align: middle;\n",
       "    }\n",
       "\n",
       "    .dataframe tbody tr th {\n",
       "        vertical-align: top;\n",
       "    }\n",
       "\n",
       "    .dataframe thead th {\n",
       "        text-align: right;\n",
       "    }\n",
       "</style>\n",
       "<table border=\"1\" class=\"dataframe\">\n",
       "  <thead>\n",
       "    <tr style=\"text-align: right;\">\n",
       "      <th></th>\n",
       "      <th>Zone</th>\n",
       "      <th>Produit</th>\n",
       "      <th>Origine</th>\n",
       "      <th>Aliments pour animaux</th>\n",
       "      <th>Autres Utilisations</th>\n",
       "      <th>Disponibilité alimentaire (Kcal/personne/jour)</th>\n",
       "      <th>Disponibilité alimentaire en quantité (kg/personne/an)</th>\n",
       "      <th>Disponibilité de matière grasse en quantité (g/personne/jour)</th>\n",
       "      <th>Disponibilité de protéines en quantité (g/personne/jour)</th>\n",
       "      <th>Disponibilité intérieure</th>\n",
       "      <th>Exportations - Quantité</th>\n",
       "      <th>Importations - Quantité</th>\n",
       "      <th>Nourriture</th>\n",
       "      <th>Pertes</th>\n",
       "      <th>Production</th>\n",
       "      <th>Semences</th>\n",
       "      <th>Traitement</th>\n",
       "      <th>Variation de stock</th>\n",
       "    </tr>\n",
       "  </thead>\n",
       "  <tbody>\n",
       "    <tr>\n",
       "      <th>7</th>\n",
       "      <td>Afghanistan</td>\n",
       "      <td>Blé</td>\n",
       "      <td>vegetale</td>\n",
       "      <td>0.0</td>\n",
       "      <td>0.0</td>\n",
       "      <td>1369.0</td>\n",
       "      <td>160.23</td>\n",
       "      <td>4.69</td>\n",
       "      <td>36.91</td>\n",
       "      <td>5.992000e+09</td>\n",
       "      <td>0.0</td>\n",
       "      <td>1.173000e+09</td>\n",
       "      <td>4.895000e+09</td>\n",
       "      <td>775000000.0</td>\n",
       "      <td>5.169000e+09</td>\n",
       "      <td>322000000.0</td>\n",
       "      <td>0.0</td>\n",
       "      <td>-350000000.0</td>\n",
       "    </tr>\n",
       "    <tr>\n",
       "      <th>12</th>\n",
       "      <td>Afghanistan</td>\n",
       "      <td>Céréales, Autres</td>\n",
       "      <td>vegetale</td>\n",
       "      <td>0.0</td>\n",
       "      <td>0.0</td>\n",
       "      <td>0.0</td>\n",
       "      <td>0.00</td>\n",
       "      <td>0.00</td>\n",
       "      <td>0.00</td>\n",
       "      <td>0.000000e+00</td>\n",
       "      <td>0.0</td>\n",
       "      <td>0.000000e+00</td>\n",
       "      <td>0.000000e+00</td>\n",
       "      <td>0.0</td>\n",
       "      <td>0.000000e+00</td>\n",
       "      <td>0.0</td>\n",
       "      <td>0.0</td>\n",
       "      <td>0.0</td>\n",
       "    </tr>\n",
       "    <tr>\n",
       "      <th>32</th>\n",
       "      <td>Afghanistan</td>\n",
       "      <td>Maïs</td>\n",
       "      <td>vegetale</td>\n",
       "      <td>200000000.0</td>\n",
       "      <td>0.0</td>\n",
       "      <td>21.0</td>\n",
       "      <td>2.50</td>\n",
       "      <td>0.30</td>\n",
       "      <td>0.56</td>\n",
       "      <td>3.130000e+08</td>\n",
       "      <td>0.0</td>\n",
       "      <td>1.000000e+06</td>\n",
       "      <td>7.600000e+07</td>\n",
       "      <td>31000000.0</td>\n",
       "      <td>3.120000e+08</td>\n",
       "      <td>5000000.0</td>\n",
       "      <td>0.0</td>\n",
       "      <td>0.0</td>\n",
       "    </tr>\n",
       "    <tr>\n",
       "      <th>34</th>\n",
       "      <td>Afghanistan</td>\n",
       "      <td>Millet</td>\n",
       "      <td>vegetale</td>\n",
       "      <td>0.0</td>\n",
       "      <td>0.0</td>\n",
       "      <td>3.0</td>\n",
       "      <td>0.40</td>\n",
       "      <td>0.02</td>\n",
       "      <td>0.08</td>\n",
       "      <td>1.300000e+07</td>\n",
       "      <td>0.0</td>\n",
       "      <td>0.000000e+00</td>\n",
       "      <td>1.200000e+07</td>\n",
       "      <td>1000000.0</td>\n",
       "      <td>1.300000e+07</td>\n",
       "      <td>0.0</td>\n",
       "      <td>0.0</td>\n",
       "      <td>0.0</td>\n",
       "    </tr>\n",
       "    <tr>\n",
       "      <th>40</th>\n",
       "      <td>Afghanistan</td>\n",
       "      <td>Orge</td>\n",
       "      <td>vegetale</td>\n",
       "      <td>360000000.0</td>\n",
       "      <td>0.0</td>\n",
       "      <td>26.0</td>\n",
       "      <td>2.92</td>\n",
       "      <td>0.24</td>\n",
       "      <td>0.79</td>\n",
       "      <td>5.240000e+08</td>\n",
       "      <td>0.0</td>\n",
       "      <td>1.000000e+07</td>\n",
       "      <td>8.900000e+07</td>\n",
       "      <td>52000000.0</td>\n",
       "      <td>5.140000e+08</td>\n",
       "      <td>22000000.0</td>\n",
       "      <td>0.0</td>\n",
       "      <td>0.0</td>\n",
       "    </tr>\n",
       "  </tbody>\n",
       "</table>\n",
       "</div>"
      ],
      "text/plain": [
       "           Zone           Produit   Origine  Aliments pour animaux  \\\n",
       "7   Afghanistan               Blé  vegetale                    0.0   \n",
       "12  Afghanistan  Céréales, Autres  vegetale                    0.0   \n",
       "32  Afghanistan              Maïs  vegetale            200000000.0   \n",
       "34  Afghanistan            Millet  vegetale                    0.0   \n",
       "40  Afghanistan              Orge  vegetale            360000000.0   \n",
       "\n",
       "    Autres Utilisations  Disponibilité alimentaire (Kcal/personne/jour)  \\\n",
       "7                   0.0                                          1369.0   \n",
       "12                  0.0                                             0.0   \n",
       "32                  0.0                                            21.0   \n",
       "34                  0.0                                             3.0   \n",
       "40                  0.0                                            26.0   \n",
       "\n",
       "    Disponibilité alimentaire en quantité (kg/personne/an)  \\\n",
       "7                                              160.23        \n",
       "12                                               0.00        \n",
       "32                                               2.50        \n",
       "34                                               0.40        \n",
       "40                                               2.92        \n",
       "\n",
       "    Disponibilité de matière grasse en quantité (g/personne/jour)  \\\n",
       "7                                                4.69               \n",
       "12                                               0.00               \n",
       "32                                               0.30               \n",
       "34                                               0.02               \n",
       "40                                               0.24               \n",
       "\n",
       "    Disponibilité de protéines en quantité (g/personne/jour)  \\\n",
       "7                                               36.91          \n",
       "12                                               0.00          \n",
       "32                                               0.56          \n",
       "34                                               0.08          \n",
       "40                                               0.79          \n",
       "\n",
       "    Disponibilité intérieure  Exportations - Quantité  \\\n",
       "7               5.992000e+09                      0.0   \n",
       "12              0.000000e+00                      0.0   \n",
       "32              3.130000e+08                      0.0   \n",
       "34              1.300000e+07                      0.0   \n",
       "40              5.240000e+08                      0.0   \n",
       "\n",
       "    Importations - Quantité    Nourriture       Pertes    Production  \\\n",
       "7              1.173000e+09  4.895000e+09  775000000.0  5.169000e+09   \n",
       "12             0.000000e+00  0.000000e+00          0.0  0.000000e+00   \n",
       "32             1.000000e+06  7.600000e+07   31000000.0  3.120000e+08   \n",
       "34             0.000000e+00  1.200000e+07    1000000.0  1.300000e+07   \n",
       "40             1.000000e+07  8.900000e+07   52000000.0  5.140000e+08   \n",
       "\n",
       "       Semences  Traitement  Variation de stock  \n",
       "7   322000000.0         0.0        -350000000.0  \n",
       "12          0.0         0.0                 0.0  \n",
       "32    5000000.0         0.0                 0.0  \n",
       "34          0.0         0.0                 0.0  \n",
       "40   22000000.0         0.0                 0.0  "
      ]
     },
     "execution_count": 74,
     "metadata": {},
     "output_type": "execute_result"
    }
   ],
   "source": [
    "#Création d'un dataframe avec les informations uniquement pour ces céréales\n",
    "dispo_cereales = dispo_alimentaire.loc[dispo_alimentaire['Produit'].isin(céréales)]\n",
    "\n",
    "dispo_cereales.head()"
   ]
  },
  {
   "cell_type": "code",
   "execution_count": 75,
   "id": "aada59bf",
   "metadata": {},
   "outputs": [
    {
     "data": {
      "text/plain": [
       "array(['Blé', 'Céréales, Autres', 'Maïs', 'Millet', 'Orge',\n",
       "       'Riz (Eq Blanchi)', 'Avoine', 'Seigle', 'Sorgho'], dtype=object)"
      ]
     },
     "execution_count": 75,
     "metadata": {},
     "output_type": "execute_result"
    }
   ],
   "source": [
    "#Vérification du nouveau data frame\n",
    "\n",
    "dispo_cereales['Produit'].unique()"
   ]
  },
  {
   "cell_type": "code",
   "execution_count": 76,
   "id": "8365de95",
   "metadata": {},
   "outputs": [
    {
     "data": {
      "image/png": "[encoded data removed]",
      "text/plain": [
       "<Figure size 800x800 with 1 Axes>"
      ]
     },
     "metadata": {},
     "output_type": "display_data"
    }
   ],
   "source": [
    "#Affichage de la proportion d'alimentation animale\n",
    "\n",
    "dispo_cereales_totale = dispo_cereales['Disponibilité intérieure'].sum()\n",
    "dispo_cereales_alim_ani = dispo_cereales['Aliments pour animaux'].sum()\n",
    "dispo_cereales_autre = dispo_cereales['Autres Utilisations'].sum()\n",
    "dispo_cereales_nourriture = dispo_cereales['Nourriture'].sum()\n",
    "dispo_cereales_perte = dispo_cereales['Pertes'].sum()\n",
    "dispo_cereales_semences = dispo_cereales['Semences'].sum()\n",
    "dispo_cereales_traitement = dispo_cereales['Traitement'].sum()\n",
    "\n",
    "proportions = [dispo_cereales_alim_ani / dispo_cereales_totale, dispo_cereales_nourriture / dispo_cereales_totale, dispo_cereales_autre / dispo_cereales_totale, dispo_cereales_perte / dispo_cereales_totale, dispo_cereales_semences / dispo_cereales_totale, dispo_cereales_traitement /dispo_cereales_totale]\n",
    "\n",
    "plt.figure(figsize=(8, 8))\n",
    "plt.pie(proportions, labels=['Aliments pour animaux', 'Nourriture humaine', 'Autres utilisations', 'Pertes', 'Semences', 'Traitement'], autopct='%1.1f%%')\n",
    "plt.title('Répartition de la disponibilité des céréales en 2017')\n",
    "plt.savefig('utilisatiob des cereales.png')\n",
    "plt.show()"
   ]
  },
  {
   "cell_type": "markdown",
   "id": "a603be79",
   "metadata": {},
   "source": [
    "# <a id=\"proportion_forte_sous_nutrition\"></a>\n",
    "<div style=\"border: 1px solid RGB(0,150,250);\" >\n",
    "<h3 style=\"margin: auto; padding: 20px; color: RGB(0,150,250); \">3.6 - Pays avec la proportion de personnes sous-alimentée la plus forte en 2017</h3>\n",
    "</div>"
   ]
  },
  {
   "cell_type": "code",
   "execution_count": 77,
   "id": "25a185b6",
   "metadata": {},
   "outputs": [],
   "source": [
    "#Création de la colonne proportion par pays\n",
    "\n",
    "popu_sous_nutri_2017['proportion par pays'] = round((popu_sous_nutri_2017['sous_nutrition'] / popu_sous_nutri_2017['Population']) * 100, 2)"
   ]
  },
  {
   "cell_type": "code",
   "execution_count": 78,
   "id": "a0f759c6",
   "metadata": {},
   "outputs": [
    {
     "data": {
      "text/html": [
       "<div>\n",
       "<style scoped>\n",
       "    .dataframe tbody tr th:only-of-type {\n",
       "        vertical-align: middle;\n",
       "    }\n",
       "\n",
       "    .dataframe tbody tr th {\n",
       "        vertical-align: top;\n",
       "    }\n",
       "\n",
       "    .dataframe thead th {\n",
       "        text-align: right;\n",
       "    }\n",
       "</style>\n",
       "<table border=\"1\" class=\"dataframe\">\n",
       "  <thead>\n",
       "    <tr style=\"text-align: right;\">\n",
       "      <th></th>\n",
       "      <th>Zone</th>\n",
       "      <th>Année</th>\n",
       "      <th>Population</th>\n",
       "      <th>sous_nutrition</th>\n",
       "      <th>proportion par pays</th>\n",
       "    </tr>\n",
       "  </thead>\n",
       "  <tbody>\n",
       "    <tr>\n",
       "      <th>87</th>\n",
       "      <td>Haïti</td>\n",
       "      <td>2017</td>\n",
       "      <td>10982366.0</td>\n",
       "      <td>5300000.0</td>\n",
       "      <td>48.26</td>\n",
       "    </tr>\n",
       "    <tr>\n",
       "      <th>181</th>\n",
       "      <td>République populaire démocratique de Corée</td>\n",
       "      <td>2017</td>\n",
       "      <td>25429825.0</td>\n",
       "      <td>12000000.0</td>\n",
       "      <td>47.19</td>\n",
       "    </tr>\n",
       "    <tr>\n",
       "      <th>128</th>\n",
       "      <td>Madagascar</td>\n",
       "      <td>2017</td>\n",
       "      <td>25570512.0</td>\n",
       "      <td>10500000.0</td>\n",
       "      <td>41.06</td>\n",
       "    </tr>\n",
       "    <tr>\n",
       "      <th>122</th>\n",
       "      <td>Libéria</td>\n",
       "      <td>2017</td>\n",
       "      <td>4702226.0</td>\n",
       "      <td>1800000.0</td>\n",
       "      <td>38.28</td>\n",
       "    </tr>\n",
       "    <tr>\n",
       "      <th>119</th>\n",
       "      <td>Lesotho</td>\n",
       "      <td>2017</td>\n",
       "      <td>2091534.0</td>\n",
       "      <td>800000.0</td>\n",
       "      <td>38.25</td>\n",
       "    </tr>\n",
       "    <tr>\n",
       "      <th>216</th>\n",
       "      <td>Tchad</td>\n",
       "      <td>2017</td>\n",
       "      <td>15016753.0</td>\n",
       "      <td>5700000.0</td>\n",
       "      <td>37.96</td>\n",
       "    </tr>\n",
       "    <tr>\n",
       "      <th>186</th>\n",
       "      <td>Rwanda</td>\n",
       "      <td>2017</td>\n",
       "      <td>11980961.0</td>\n",
       "      <td>4200000.0</td>\n",
       "      <td>35.06</td>\n",
       "    </tr>\n",
       "    <tr>\n",
       "      <th>145</th>\n",
       "      <td>Mozambique</td>\n",
       "      <td>2017</td>\n",
       "      <td>28649018.0</td>\n",
       "      <td>9400000.0</td>\n",
       "      <td>32.81</td>\n",
       "    </tr>\n",
       "    <tr>\n",
       "      <th>219</th>\n",
       "      <td>Timor-Leste</td>\n",
       "      <td>2017</td>\n",
       "      <td>1243258.0</td>\n",
       "      <td>400000.0</td>\n",
       "      <td>32.17</td>\n",
       "    </tr>\n",
       "    <tr>\n",
       "      <th>0</th>\n",
       "      <td>Afghanistan</td>\n",
       "      <td>2017</td>\n",
       "      <td>36296113.0</td>\n",
       "      <td>10500000.0</td>\n",
       "      <td>28.93</td>\n",
       "    </tr>\n",
       "  </tbody>\n",
       "</table>\n",
       "</div>"
      ],
      "text/plain": [
       "                                           Zone  Année  Population  \\\n",
       "87                                        Haïti   2017  10982366.0   \n",
       "181  République populaire démocratique de Corée   2017  25429825.0   \n",
       "128                                  Madagascar   2017  25570512.0   \n",
       "122                                     Libéria   2017   4702226.0   \n",
       "119                                     Lesotho   2017   2091534.0   \n",
       "216                                       Tchad   2017  15016753.0   \n",
       "186                                      Rwanda   2017  11980961.0   \n",
       "145                                  Mozambique   2017  28649018.0   \n",
       "219                                 Timor-Leste   2017   1243258.0   \n",
       "0                                   Afghanistan   2017  36296113.0   \n",
       "\n",
       "     sous_nutrition  proportion par pays  \n",
       "87        5300000.0                48.26  \n",
       "181      12000000.0                47.19  \n",
       "128      10500000.0                41.06  \n",
       "122       1800000.0                38.28  \n",
       "119        800000.0                38.25  \n",
       "216       5700000.0                37.96  \n",
       "186       4200000.0                35.06  \n",
       "145       9400000.0                32.81  \n",
       "219        400000.0                32.17  \n",
       "0        10500000.0                28.93  "
      ]
     },
     "execution_count": 78,
     "metadata": {},
     "output_type": "execute_result"
    }
   ],
   "source": [
    "#affichage après trie des 10 pires pays\n",
    "\n",
    "Top_10_sous_nutri = popu_sous_nutri_2017.nlargest(10, 'proportion par pays')\n",
    "Top_10_sous_nutri.head(10)"
   ]
  },
  {
   "cell_type": "code",
   "execution_count": 79,
   "id": "3e9a3147",
   "metadata": {},
   "outputs": [
    {
     "data": {
      "image/png": "[encoded data removed]",
      "text/plain": [
       "<Figure size 1500x1000 with 1 Axes>"
      ]
     },
     "metadata": {},
     "output_type": "display_data"
    }
   ],
   "source": [
    "#Création du diagramme à barres\n",
    "\n",
    "colors = ['#1f77b4', '#ff7f0e', '#2ca02c', '#d62728', '#9467bd', '#8c564b', '#e377c2', '#7f7f7f', '#bcbd22', '#17becf']\n",
    "\n",
    "plt.figure(figsize=(15, 10))  \n",
    "\n",
    "plt.barh(y=Top_10_sous_nutri['Zone'], width=Top_10_sous_nutri['proportion par pays'], color=colors) \n",
    "plt.xlabel('Proportion de la population sous-alimentée (%)')\n",
    "plt.ylabel('Pays')\n",
    "plt.title('Proportion de la population sous-alimentée dans les 10 pays les plus touchés')\n",
    "plt.grid(axis='x', linestyle='--', alpha=0.7) \n",
    "plt.tight_layout() \n",
    "plt.gca().invert_yaxis()\n",
    "\n",
    "plt.savefig('pays avec le plus de sous nutrition.png')\n",
    "plt.show()\n"
   ]
  },
  {
   "cell_type": "markdown",
   "id": "4f610008",
   "metadata": {},
   "source": [
    "# <a id=\"pays_plus_aide\"></a>\n",
    "<div style=\"border: 1px solid RGB(0,150,250);\" >\n",
    "<h3 style=\"margin: auto; padding: 20px; color: RGB(0,150,250); \">3.7 - Pays qui ont le plus bénéficié d'aide alimentaire depuis 2013</h3>\n",
    "</div>"
   ]
  },
  {
   "cell_type": "code",
   "execution_count": 80,
   "id": "ff1b24a3",
   "metadata": {},
   "outputs": [
    {
     "name": "stdout",
     "output_type": "stream",
     "text": [
      "Zone\n",
      "Afghanistan     185452000\n",
      "Algérie          81114000\n",
      "Angola            5014000\n",
      "Bangladesh      348188000\n",
      "Bhoutan           2666000\n",
      "                  ...    \n",
      "Zambie            3026000\n",
      "Zimbabwe         62570000\n",
      "Égypte            1122000\n",
      "Équateur          1362000\n",
      "Éthiopie       1381294000\n",
      "Name: Valeur, Length: 76, dtype: int64\n"
     ]
    }
   ],
   "source": [
    "#calcul du total de l'aide alimentaire par pays\n",
    "\n",
    "montant_total_par_pays = aide_alimentaire.groupby('Zone')['Valeur'].sum()\n",
    "\n",
    "print(montant_total_par_pays)"
   ]
  },
  {
   "cell_type": "code",
   "execution_count": 81,
   "id": "ee1ac6fb",
   "metadata": {},
   "outputs": [
    {
     "name": "stdout",
     "output_type": "stream",
     "text": [
      "Les 10 pays qui ont bénéficié le plus de l'aide alimentaire sont: Zone\n",
      "République arabe syrienne           1858943000\n",
      "Éthiopie                            1381294000\n",
      "Yémen                               1206484000\n",
      "Soudan du Sud                        695248000\n",
      "Soudan                               669784000\n",
      "Kenya                                552836000\n",
      "Bangladesh                           348188000\n",
      "Somalie                              292678000\n",
      "République démocratique du Congo     288502000\n",
      "Niger                                276344000\n",
      "Name: Valeur, dtype: int64\n"
     ]
    }
   ],
   "source": [
    "#affichage après trie des 10 pays qui ont bénéficié le plus de l'aide alimentaire\n",
    "\n",
    "top_10_pays = montant_total_par_pays.nlargest(10)\n",
    "\n",
    "print(\"Les 10 pays qui ont bénéficié le plus de l'aide alimentaire sont:\", top_10_pays)"
   ]
  },
  {
   "cell_type": "code",
   "execution_count": 82,
   "id": "2c3b889e",
   "metadata": {},
   "outputs": [
    {
     "data": {
      "image/png": "[encoded data removed]",
      "text/plain": [
       "<Figure size 1000x600 with 1 Axes>"
      ]
     },
     "metadata": {},
     "output_type": "display_data"
    }
   ],
   "source": [
    "#Création d'un diagramme à barres horizontales\n",
    "\n",
    "colors = ['#1f77b4', '#ff7f0e', '#2ca02c', '#d62728', '#9467bd', '#8c564b', '#e377c2', '#7f7f7f', '#bcbd22', '#17becf']\n",
    "\n",
    "\n",
    "plt.figure(figsize=(10, 6))\n",
    "bars = plt.barh(top_10_pays.index, top_10_pays.values, color=colors) \n",
    "\n",
    "\n",
    "plt.xlabel('Montant total de l\\'aide alimentaire (en Md€)')\n",
    "plt.ylabel('Pays')\n",
    "plt.title('Top 10 des pays bénéficiant de l\\'aide alimentaire')\n",
    "plt.gca().invert_yaxis()\n",
    "\n",
    "plt.savefig('TOP 10 pays aide alimentaire.png')\n",
    "plt.show()"
   ]
  },
  {
   "cell_type": "markdown",
   "id": "a361ce61",
   "metadata": {},
   "source": [
    "# <a id=\"evolution_aide_alimentaire\"></a>\n",
    "<div style=\"border: 1px solid RGB(0,150,250);\" >\n",
    "<h3 style=\"margin: auto; padding: 20px; color: RGB(0,150,250); \">3.8 - Evolution des 5 pays qui ont le plus bénéficiés de l'aide alimentaire entre 2013 et 2016</h3>\n",
    "</div>"
   ]
  },
  {
   "cell_type": "code",
   "execution_count": 83,
   "id": "09d55114",
   "metadata": {},
   "outputs": [
    {
     "name": "stdout",
     "output_type": "stream",
     "text": [
      "                      Valeur\n",
      "Zone        Année           \n",
      "Afghanistan 2013   128238000\n",
      "            2014    57214000\n",
      "Algérie     2013    35234000\n",
      "            2014    18980000\n",
      "            2015    17424000\n",
      "...                      ...\n",
      "Égypte      2013     1122000\n",
      "Équateur    2013     1362000\n",
      "Éthiopie    2013   591404000\n",
      "            2014   586624000\n",
      "            2015   203266000\n",
      "\n",
      "[228 rows x 1 columns]\n"
     ]
    }
   ],
   "source": [
    "#Création d'un dataframe avec la zone, l'année et l'aide alimentaire puis groupby sur zone et année \n",
    "\n",
    "aide_alimentaire_filtre = aide_alimentaire[['Zone', 'Année', 'Valeur']]\n",
    "aide_alimentaire_filtre_grouped = aide_alimentaire_filtre.groupby(['Zone', 'Année']).sum()\n",
    "\n",
    "print(aide_alimentaire_filtre_grouped)\n"
   ]
  },
  {
   "cell_type": "code",
   "execution_count": 84,
   "id": "6bd577b0",
   "metadata": {},
   "outputs": [
    {
     "data": {
      "text/plain": [
       "Zone\n",
       "République arabe syrienne    1858943000\n",
       "Éthiopie                     1381294000\n",
       "Yémen                        1206484000\n",
       "Soudan du Sud                 695248000\n",
       "Soudan                        669784000\n",
       "Name: Valeur, dtype: int64"
      ]
     },
     "execution_count": 84,
     "metadata": {},
     "output_type": "execute_result"
    }
   ],
   "source": [
    "#Les 5 pays qui ont le plus bénéficiées de l'aide alimentaire\n",
    "\n",
    "top_5_pays = montant_total_par_pays.nlargest(5)\n",
    "top_5_pays"
   ]
  },
  {
   "cell_type": "code",
   "execution_count": 85,
   "id": "4b3c3aec",
   "metadata": {},
   "outputs": [
    {
     "name": "stdout",
     "output_type": "stream",
     "text": [
      "['République arabe syrienne', 'Éthiopie', 'Yémen', 'Soudan du Sud', 'Soudan']\n"
     ]
    }
   ],
   "source": [
    "#Création d'une liste avec ces 5 pays\n",
    "\n",
    "liste_top_5_pays = top_5_pays.index.tolist()\n",
    "\n",
    "print(liste_top_5_pays)"
   ]
  },
  {
   "cell_type": "code",
   "execution_count": 86,
   "id": "1e6835a2",
   "metadata": {},
   "outputs": [
    {
     "data": {
      "image/png": "[encoded data removed]",
      "text/plain": [
       "<Figure size 1000x600 with 1 Axes>"
      ]
     },
     "metadata": {},
     "output_type": "display_data"
    }
   ],
   "source": [
    "#Sélectionner les données des cinq pays sélectionnés\n",
    "data_top_5 = aide_alimentaire_filtre_grouped.loc[top_5_pays.index]\n",
    "\n",
    "#Réinitialiser l'index pour pouvoir accéder aux noms des pays comme une colonne\n",
    "data_top_5.reset_index(inplace=True)\n",
    "\n",
    "#Créer un graphique en courbe pour chaque pays\n",
    "\n",
    "plt.figure(figsize=(10, 6))\n",
    "for pays in top_5_pays.index:\n",
    "    data_pays = data_top_5[data_top_5['Zone'] == pays]\n",
    "    plt.plot(data_pays['Année'], data_pays['Valeur'], marker='o', label=pays)\n",
    "\n",
    "plt.xlabel('Année')\n",
    "plt.ylabel('Montant de l\\'aide alimentaire (en M€)')\n",
    "plt.title('Évolution de l\\'aide alimentaire pour les 5 pays les plus bénéficiaires (2013-2016)')\n",
    "plt.xticks(range(2013, 2017, 1))\n",
    "plt.legend()\n",
    "plt.grid(True)\n",
    "\n",
    "plt.savefig('Evolution_aide_alimentaire.png')\n",
    "plt.show()"
   ]
  },
  {
   "cell_type": "markdown",
   "id": "bd392dac",
   "metadata": {},
   "source": [
    "# <a id=\"moins_dispo_habitant\"></a>\n",
    "<div style=\"border: 1px solid RGB(0,150,250);\" >\n",
    "<h3 style=\"margin: auto; padding: 20px; color: RGB(0,150,250); \">3.9 - Pays avec le moins de disponibilité par habitant</h3>\n",
    "</div>"
   ]
  },
  {
   "cell_type": "code",
   "execution_count": 87,
   "id": "fb3a378b",
   "metadata": {},
   "outputs": [],
   "source": [
    "#Création d'un nouveau dataframe avec les colonnes pertinentes du df dispo_alimentaire\n",
    "\n",
    "dispo_alimentaire_filtre = dispo_alimentaire[['Zone', 'Disponibilité alimentaire (Kcal/personne/jour)']]\n",
    "dispo_alimentaire_kcal_pays = dispo_alimentaire_filtre.groupby('Zone').sum()"
   ]
  },
  {
   "cell_type": "code",
   "execution_count": 88,
   "id": "306484c1",
   "metadata": {},
   "outputs": [
    {
     "name": "stdout",
     "output_type": "stream",
     "text": [
      "Les 10 pays ayant le moins de disponibilité alimentaire par habitants sont:                                             Disponibilité alimentaire (Kcal/personne/jour)\n",
      "Zone                                                                                      \n",
      "République centrafricaine                                                           1879.0\n",
      "Zambie                                                                              1924.0\n",
      "Madagascar                                                                          2056.0\n",
      "Afghanistan                                                                         2087.0\n",
      "Haïti                                                                               2089.0\n",
      "République populaire démocratique de Corée                                          2093.0\n",
      "Tchad                                                                               2109.0\n",
      "Zimbabwe                                                                            2113.0\n",
      "Ouganda                                                                             2126.0\n",
      "Timor-Leste                                                                         2129.0\n"
     ]
    }
   ],
   "source": [
    "#Filtre sur les 10 pays ayant la plus faible disponibilité alimentaire\n",
    "\n",
    "top_10_pays_negatif_kcal = dispo_alimentaire_kcal_pays.nsmallest(10, 'Disponibilité alimentaire (Kcal/personne/jour)')\n",
    "print(\"Les 10 pays ayant le moins de disponibilité alimentaire par habitants sont:\", top_10_pays_negatif_kcal)\n"
   ]
  },
  {
   "cell_type": "code",
   "execution_count": 89,
   "id": "e4fd6bff",
   "metadata": {},
   "outputs": [
    {
     "data": {
      "image/png": "[encoded data removed]",
      "text/plain": [
       "<Figure size 1200x600 with 1 Axes>"
      ]
     },
     "metadata": {},
     "output_type": "display_data"
    }
   ],
   "source": [
    "# Calculer la disponibilité alimentaire moyenne des pays\n",
    "\n",
    "dispo_alimentaire_moyenne = dispo_alimentaire_kcal_pays['Disponibilité alimentaire (Kcal/personne/jour)'].mean()\n",
    "\n",
    "# Créer le diagramme à barres\n",
    "\n",
    "plt.figure(figsize=(12, 6))\n",
    "colors = ['blue', 'green', 'salmon', 'purple', 'orange', 'brown', 'pink', 'gray', 'olive', 'cyan']\n",
    "plt.bar(range(len(top_10_pays_negatif_kcal)), top_10_pays_negatif_kcal['Disponibilité alimentaire (Kcal/personne/jour)'], color=colors)\n",
    "plt.axhline(y=dispo_alimentaire_moyenne, color='red', linestyle='--', label=f'Disponibilité alimentaire moyenne: {dispo_alimentaire_moyenne:.2f}')\n",
    "plt.title('Top 10 des pays ayant la plus faible disponibilité alimentaire (Kcal/personne/jour)')\n",
    "plt.xlabel('Pays')\n",
    "plt.ylabel('Disponibilité alimentaire (Kcal/personne/jour)')\n",
    "plt.xticks(range(len(top_10_pays_negatif_kcal)), top_10_pays_negatif_kcal.index, rotation=45, ha='right')\n",
    "plt.legend()\n",
    "plt.tight_layout()\n",
    "plt.savefig('TOP 10 pays dispo alimentaire faible.png')\n",
    "\n",
    "plt.show()"
   ]
  },
  {
   "cell_type": "markdown",
   "id": "2553ed12",
   "metadata": {},
   "source": [
    "# <a id=\"plus_dispo_habitant\"></a>\n",
    "<div style=\"border: 1px solid RGB(0,150,250);\" >\n",
    "<h3 style=\"margin: auto; padding: 20px; color: RGB(0,150,250); \">3.10 - Pays avec le plus de disponibilité par habitant</h3>\n",
    "</div>"
   ]
  },
  {
   "cell_type": "code",
   "execution_count": 90,
   "id": "63e835c6",
   "metadata": {},
   "outputs": [
    {
     "name": "stdout",
     "output_type": "stream",
     "text": [
      "                       Disponibilité alimentaire (Kcal/personne/jour)\n",
      "Zone                                                                 \n",
      "Autriche                                                       3770.0\n",
      "Belgique                                                       3737.0\n",
      "Turquie                                                        3708.0\n",
      "États-Unis d'Amérique                                          3682.0\n",
      "Israël                                                         3610.0\n",
      "Irlande                                                        3602.0\n",
      "Italie                                                         3578.0\n",
      "Luxembourg                                                     3540.0\n",
      "Égypte                                                         3518.0\n",
      "Allemagne                                                      3503.0\n"
     ]
    }
   ],
   "source": [
    "#Affichage des 10 pays qui ont le plus de dispo alimentaire par personne \n",
    "\n",
    "top_10_pays_kcal = dispo_alimentaire_kcal_pays.nlargest(10, 'Disponibilité alimentaire (Kcal/personne/jour)')\n",
    "print(top_10_pays_kcal)"
   ]
  },
  {
   "cell_type": "code",
   "execution_count": 91,
   "id": "9acc9989",
   "metadata": {},
   "outputs": [
    {
     "data": {
      "text/plain": [
       "<Figure size 1200x600 with 0 Axes>"
      ]
     },
     "metadata": {},
     "output_type": "display_data"
    },
    {
     "data": {
      "image/png": "[encoded data removed]",
      "text/plain": [
       "<Figure size 1200x600 with 1 Axes>"
      ]
     },
     "metadata": {},
     "output_type": "display_data"
    }
   ],
   "source": [
    "# Créer le diagramme à barres\n",
    "\n",
    "plt.figure(figsize=(12, 6))\n",
    "colors = ['blue', 'green', 'salmon', 'purple', 'orange', 'brown', 'pink', 'gray', 'olive', 'cyan']\n",
    "plt.figure(figsize=(12, 6))\n",
    "plt.bar(range(len(top_10_pays_kcal)), top_10_pays_kcal['Disponibilité alimentaire (Kcal/personne/jour)'], color=colors)\n",
    "plt.axhline(y=dispo_alimentaire_moyenne, color='red', linestyle='--', label=f'Disponibilité alimentaire moyenne: {dispo_alimentaire_moyenne:.2f}')\n",
    "plt.title('Top 10 des pays ayant la plus grande disponibilité alimentaire (Kcal/personne/jour)')\n",
    "plt.xlabel('Pays')\n",
    "plt.ylabel('Disponibilité alimentaire (Kcal/personne/jour)')\n",
    "plt.xticks(range(len(top_10_pays_kcal)), top_10_pays_kcal.index, rotation=45, ha='right')\n",
    "plt.legend()\n",
    "plt.tight_layout()\n",
    "plt.savefig('TOP 10 pays dispo alimentaire max.png')\n",
    "\n",
    "plt.show()"
   ]
  },
  {
   "cell_type": "markdown",
   "id": "58d7248b",
   "metadata": {},
   "source": [
    "# <a id=\"exemple_thailande_manioc\"></a>\n",
    "<div style=\"border: 1px solid RGB(0,150,250);\" >\n",
    "<h3 style=\"margin: auto; padding: 20px; color: RGB(0,150,250); \">3.11 - Exemple de la Thaïlande pour le Manioc</h3>\n",
    "</div>"
   ]
  },
  {
   "cell_type": "code",
   "execution_count": 92,
   "id": "bf50d19e",
   "metadata": {},
   "outputs": [],
   "source": [
    "#création d'un dataframe avec uniquement la Thaïlande \n",
    "\n",
    "dispo_alimentaire_thailande = dispo_alimentaire.loc[(dispo_alimentaire['Zone']== 'Thaïlande')]\n"
   ]
  },
  {
   "cell_type": "code",
   "execution_count": 93,
   "id": "85693912",
   "metadata": {},
   "outputs": [
    {
     "name": "stdout",
     "output_type": "stream",
     "text": [
      "          Zone  Année  Population  sous_nutrition  proportion par pays\n",
      "218  Thaïlande   2017  69209810.0       6200000.0                 8.96\n"
     ]
    }
   ],
   "source": [
    "#Calcul de la sous nutrition en Thaïlande\n",
    "\n",
    "popu_sous_nutri_thailande_2017 = popu_sous_nutri_2017.loc[(popu_sous_nutri_2017['Zone']== 'Thaïlande') & (popu_sous_nutri_2017['Année']==2017)]\n",
    "\n",
    "print(popu_sous_nutri_thailande_2017)\n"
   ]
  },
  {
   "cell_type": "code",
   "execution_count": 94,
   "id": "f19cd96e",
   "metadata": {},
   "outputs": [
    {
     "data": {
      "image/png": "[encoded data removed]",
      "text/plain": [
       "<Figure size 640x480 with 1 Axes>"
      ]
     },
     "metadata": {},
     "output_type": "display_data"
    }
   ],
   "source": [
    "# On calcule la proportion de manioc exportée en fonction de la proportion de manioc produit\n",
    "\n",
    "dispo_alimentaire_thailande_manioc = dispo_alimentaire_thailande.loc[dispo_alimentaire_thailande['Produit']=='Manioc']\n",
    "\n",
    "dispo_interieur_manioc = dispo_alimentaire_thailande_manioc['Disponibilité intérieure'].sum()\n",
    "exportation_manioc = dispo_alimentaire_thailande_manioc['Exportations - Quantité'].sum()\n",
    "importation_manioc = dispo_alimentaire_thailande_manioc['Importations - Quantité'].sum()\n",
    "production_manioc = dispo_alimentaire_thailande_manioc['Production'].sum()\n",
    "\n",
    "proportion_exportation = exportation_manioc / production_manioc\n",
    "proportion_importation = importation_manioc / production_manioc\n",
    "\n",
    "proportion_exporte = exportation_manioc / production_manioc\n",
    "proportion_produit = 1 - proportion_exporte\n",
    "\n",
    "\n",
    "labels = ['Manioc produit non exporté', 'Manioc exporté']\n",
    "\n",
    "sizes = [proportion_produit, proportion_exporte]\n",
    "\n",
    "plt.pie(sizes, labels=labels, autopct='%1.1f%%', startangle=90)\n",
    "plt.title('Proportion de manioc produit en Thaïlande et exporté')\n",
    "plt.savefig('proportion manioc exporté thailande.png')\n",
    "\n",
    "plt.show()"
   ]
  },
  {
   "cell_type": "code",
   "execution_count": 95,
   "id": "d021075e",
   "metadata": {},
   "outputs": [
    {
     "name": "stdout",
     "output_type": "stream",
     "text": [
      "La disponibilité alimentaire (en Kcal/personne/jour) en Thaïlande est de: 2785.0\n"
     ]
    }
   ],
   "source": [
    "#Disponibilité par habitant en Thaïlande\n",
    "\n",
    "dispo_alimentaire_kcal_thailande = dispo_alimentaire_thailande['Disponibilité alimentaire (Kcal/personne/jour)'].sum()\n",
    "print('La disponibilité alimentaire (en Kcal/personne/jour) en Thaïlande est de:', dispo_alimentaire_kcal_thailande)"
   ]
  },
  {
   "cell_type": "code",
   "execution_count": 96,
   "id": "29e8db78",
   "metadata": {},
   "outputs": [
    {
     "name": "stdout",
     "output_type": "stream",
     "text": [
      "La part de population en état de sous nutrition en Thailande est de: 8.96 %\n"
     ]
    }
   ],
   "source": [
    "#Proportion de la population en etat de sous nutrition en Thaïlande\n",
    "\n",
    "popu_sous_nutri_thailande = popu_sous_nutri_2017.loc[popu_sous_nutri_2017['Zone']=='Thaïlande']\n",
    "proportion_popu_sous_nutri_thailande = popu_sous_nutri_thailande['proportion par pays'].sum()\n",
    "\n",
    "print('La part de population en état de sous nutrition en Thailande est de:', proportion_popu_sous_nutri_thailande,'%')"
   ]
  },
  {
   "cell_type": "markdown",
   "id": "7de4e914",
   "metadata": {},
   "source": [
    "# <a id=\"etape4\"></a>\n",
    "<div style=\"background-color: RGB(0,150,250);\" >\n",
    "<h2 style=\"margin: auto; padding: 20px; color:#fff; \">Etape 4 - Analyse complémentaires</h2>\n",
    "</div>"
   ]
  },
  {
   "cell_type": "code",
   "execution_count": 97,
   "id": "71079a01",
   "metadata": {},
   "outputs": [
    {
     "name": "stdout",
     "output_type": "stream",
     "text": [
      "          Zone                 Produit   Origine  Aliments pour animaux  \\\n",
      "978   Autriche        Abats Comestible   animale                    0.0   \n",
      "979   Autriche         Agrumes, Autres  vegetale                    0.0   \n",
      "980   Autriche  Alcool, non Comestible  vegetale                    0.0   \n",
      "981   Autriche   Aliments pour enfants  vegetale                    0.0   \n",
      "982   Autriche                  Ananas  vegetale                    0.0   \n",
      "...        ...                     ...       ...                    ...   \n",
      "1068  Autriche        Viande de Suides   animale                    0.0   \n",
      "1069  Autriche     Viande de Volailles   animale                    0.0   \n",
      "1070  Autriche           Viande, Autre   animale                    0.0   \n",
      "1071  Autriche                     Vin  vegetale                    0.0   \n",
      "1072  Autriche          Épices, Autres  vegetale                    0.0   \n",
      "\n",
      "      Autres Utilisations  Disponibilité alimentaire (Kcal/personne/jour)  \\\n",
      "978                   0.0                                             4.0   \n",
      "979                   0.0                                             0.0   \n",
      "980             4000000.0                                             0.0   \n",
      "981                   0.0                                             0.0   \n",
      "982                   0.0                                             4.0   \n",
      "...                   ...                                             ...   \n",
      "1068                  0.0                                           252.0   \n",
      "1069                  0.0                                            66.0   \n",
      "1070                  0.0                                             4.0   \n",
      "1071                  0.0                                            60.0   \n",
      "1072                  0.0                                             6.0   \n",
      "\n",
      "      Disponibilité alimentaire en quantité (kg/personne/an)  \\\n",
      "978                                                1.24        \n",
      "979                                                0.81        \n",
      "980                                                0.00        \n",
      "981                                                0.01        \n",
      "982                                                2.58        \n",
      "...                                                 ...        \n",
      "1068                                              52.56        \n",
      "1069                                              18.61        \n",
      "1070                                               1.40        \n",
      "1071                                              31.71        \n",
      "1072                                               0.64        \n",
      "\n",
      "      Disponibilité de matière grasse en quantité (g/personne/jour)  \\\n",
      "978                                                0.13               \n",
      "979                                                0.00               \n",
      "980                                                0.00               \n",
      "981                                                0.00               \n",
      "982                                                0.00               \n",
      "...                                                 ...               \n",
      "1068                                              20.72               \n",
      "1069                                               3.69               \n",
      "1070                                               0.12               \n",
      "1071                                               0.00               \n",
      "1072                                               0.25               \n",
      "\n",
      "      Disponibilité de protéines en quantité (g/personne/jour)  \\\n",
      "978                                                0.63          \n",
      "979                                                0.00          \n",
      "980                                                0.00          \n",
      "981                                                0.00          \n",
      "982                                                0.02          \n",
      "...                                                 ...          \n",
      "1068                                              15.06          \n",
      "1069                                               7.67          \n",
      "1070                                               0.61          \n",
      "1071                                               0.00          \n",
      "1072                                               0.21          \n",
      "\n",
      "      Disponibilité intérieure  Exportations - Quantité  \\\n",
      "978                 11000000.0               77000000.0   \n",
      "979                  7000000.0               10000000.0   \n",
      "980                  4000000.0              100000000.0   \n",
      "981                        0.0                7000000.0   \n",
      "982                 23000000.0               16000000.0   \n",
      "...                        ...                      ...   \n",
      "1068               447000000.0              282000000.0   \n",
      "1069               169000000.0               67000000.0   \n",
      "1070                12000000.0                3000000.0   \n",
      "1071               278000000.0               48000000.0   \n",
      "1072                 5000000.0                4000000.0   \n",
      "\n",
      "      Importations - Quantité   Nourriture     Pertes   Production  Semences  \\\n",
      "978                23000000.0   11000000.0        0.0   56000000.0       0.0   \n",
      "979                17000000.0    7000000.0        0.0          0.0       0.0   \n",
      "980                31000000.0          0.0        0.0   58000000.0       0.0   \n",
      "981                 7000000.0          0.0        0.0          0.0       0.0   \n",
      "982                38000000.0   22000000.0  1000000.0          0.0       0.0   \n",
      "...                       ...          ...        ...          ...       ...   \n",
      "1068              199000000.0  447000000.0        0.0  529000000.0       0.0   \n",
      "1069              105000000.0  158000000.0        0.0  131000000.0       0.0   \n",
      "1070                8000000.0   12000000.0        0.0    7000000.0       0.0   \n",
      "1071               84000000.0  269000000.0        0.0  239000000.0       0.0   \n",
      "1072                9000000.0    5000000.0        0.0          0.0       0.0   \n",
      "\n",
      "      Traitement  Variation de stock  \n",
      "978          0.0           8000000.0  \n",
      "979          0.0                 0.0  \n",
      "980          0.0          15000000.0  \n",
      "981          0.0                 0.0  \n",
      "982          0.0                 0.0  \n",
      "...          ...                 ...  \n",
      "1068         0.0                 0.0  \n",
      "1069  11000000.0                 0.0  \n",
      "1070         0.0                 0.0  \n",
      "1071   9000000.0           3000000.0  \n",
      "1072         0.0                 0.0  \n",
      "\n",
      "[95 rows x 18 columns]\n"
     ]
    }
   ],
   "source": [
    "#Focus sur la dispo alimentaire de l'Autriche avec un filtre\n",
    "\n",
    "dispo_alimentaire_autriche = dispo_alimentaire.loc[(dispo_alimentaire['Zone']== 'Autriche')]\n",
    "\n",
    "print(dispo_alimentaire_autriche)"
   ]
  },
  {
   "cell_type": "code",
   "execution_count": 98,
   "id": "ed551186",
   "metadata": {},
   "outputs": [
    {
     "data": {
      "text/html": [
       "<div>\n",
       "<style scoped>\n",
       "    .dataframe tbody tr th:only-of-type {\n",
       "        vertical-align: middle;\n",
       "    }\n",
       "\n",
       "    .dataframe tbody tr th {\n",
       "        vertical-align: top;\n",
       "    }\n",
       "\n",
       "    .dataframe thead th {\n",
       "        text-align: right;\n",
       "    }\n",
       "</style>\n",
       "<table border=\"1\" class=\"dataframe\">\n",
       "  <thead>\n",
       "    <tr style=\"text-align: right;\">\n",
       "      <th></th>\n",
       "      <th>Zone</th>\n",
       "      <th>Produit</th>\n",
       "      <th>Origine</th>\n",
       "      <th>Aliments pour animaux</th>\n",
       "      <th>Autres Utilisations</th>\n",
       "      <th>Disponibilité alimentaire (Kcal/personne/jour)</th>\n",
       "      <th>Disponibilité alimentaire en quantité (kg/personne/an)</th>\n",
       "      <th>Disponibilité de matière grasse en quantité (g/personne/jour)</th>\n",
       "      <th>Disponibilité de protéines en quantité (g/personne/jour)</th>\n",
       "      <th>Disponibilité intérieure</th>\n",
       "      <th>Exportations - Quantité</th>\n",
       "      <th>Importations - Quantité</th>\n",
       "      <th>Nourriture</th>\n",
       "      <th>Pertes</th>\n",
       "      <th>Production</th>\n",
       "      <th>Semences</th>\n",
       "      <th>Traitement</th>\n",
       "      <th>Variation de stock</th>\n",
       "    </tr>\n",
       "  </thead>\n",
       "  <tbody>\n",
       "    <tr>\n",
       "      <th>990</th>\n",
       "      <td>Autriche</td>\n",
       "      <td>Blé</td>\n",
       "      <td>vegetale</td>\n",
       "      <td>467000000.0</td>\n",
       "      <td>58000000.0</td>\n",
       "      <td>645.0</td>\n",
       "      <td>81.1</td>\n",
       "      <td>3.13</td>\n",
       "      <td>20.97</td>\n",
       "      <td>1.320000e+09</td>\n",
       "      <td>962000000.0</td>\n",
       "      <td>1.031000e+09</td>\n",
       "      <td>689000000.0</td>\n",
       "      <td>40000000.0</td>\n",
       "      <td>1.598000e+09</td>\n",
       "      <td>55000000.0</td>\n",
       "      <td>11000000.0</td>\n",
       "      <td>-347000000.0</td>\n",
       "    </tr>\n",
       "  </tbody>\n",
       "</table>\n",
       "</div>"
      ],
      "text/plain": [
       "         Zone Produit   Origine  Aliments pour animaux  Autres Utilisations  \\\n",
       "990  Autriche     Blé  vegetale            467000000.0           58000000.0   \n",
       "\n",
       "     Disponibilité alimentaire (Kcal/personne/jour)  \\\n",
       "990                                           645.0   \n",
       "\n",
       "     Disponibilité alimentaire en quantité (kg/personne/an)  \\\n",
       "990                                               81.1        \n",
       "\n",
       "     Disponibilité de matière grasse en quantité (g/personne/jour)  \\\n",
       "990                                               3.13               \n",
       "\n",
       "     Disponibilité de protéines en quantité (g/personne/jour)  \\\n",
       "990                                              20.97          \n",
       "\n",
       "     Disponibilité intérieure  Exportations - Quantité  \\\n",
       "990              1.320000e+09              962000000.0   \n",
       "\n",
       "     Importations - Quantité   Nourriture      Pertes    Production  \\\n",
       "990             1.031000e+09  689000000.0  40000000.0  1.598000e+09   \n",
       "\n",
       "       Semences  Traitement  Variation de stock  \n",
       "990  55000000.0  11000000.0        -347000000.0  "
      ]
     },
     "execution_count": 98,
     "metadata": {},
     "output_type": "execute_result"
    }
   ],
   "source": [
    "#Quel est l'aliment avec la part de disponibilité alimentaire Kcal/personne/jour la plus importante pour l'Autriche?\n",
    "\n",
    "dispo_alimentaire_autriche.loc[dispo_alimentaire_autriche['Disponibilité alimentaire (Kcal/personne/jour)']== 645]"
   ]
  },
  {
   "cell_type": "code",
   "execution_count": 99,
   "id": "e66ac59c",
   "metadata": {},
   "outputs": [
    {
     "data": {
      "text/html": [
       "<div>\n",
       "<style scoped>\n",
       "    .dataframe tbody tr th:only-of-type {\n",
       "        vertical-align: middle;\n",
       "    }\n",
       "\n",
       "    .dataframe tbody tr th {\n",
       "        vertical-align: top;\n",
       "    }\n",
       "\n",
       "    .dataframe thead th {\n",
       "        text-align: right;\n",
       "    }\n",
       "</style>\n",
       "<table border=\"1\" class=\"dataframe\">\n",
       "  <thead>\n",
       "    <tr style=\"text-align: right;\">\n",
       "      <th></th>\n",
       "      <th>Zone</th>\n",
       "      <th>Produit</th>\n",
       "      <th>Origine</th>\n",
       "      <th>Aliments pour animaux</th>\n",
       "      <th>Autres Utilisations</th>\n",
       "      <th>Disponibilité alimentaire (Kcal/personne/jour)</th>\n",
       "      <th>Disponibilité alimentaire en quantité (kg/personne/an)</th>\n",
       "      <th>Disponibilité de matière grasse en quantité (g/personne/jour)</th>\n",
       "      <th>Disponibilité de protéines en quantité (g/personne/jour)</th>\n",
       "      <th>Disponibilité intérieure</th>\n",
       "      <th>Exportations - Quantité</th>\n",
       "      <th>Importations - Quantité</th>\n",
       "      <th>Nourriture</th>\n",
       "      <th>Pertes</th>\n",
       "      <th>Production</th>\n",
       "      <th>Semences</th>\n",
       "      <th>Traitement</th>\n",
       "      <th>Variation de stock</th>\n",
       "    </tr>\n",
       "  </thead>\n",
       "  <tbody>\n",
       "    <tr>\n",
       "      <th>7029</th>\n",
       "      <td>Japon</td>\n",
       "      <td>Avoine</td>\n",
       "      <td>vegetale</td>\n",
       "      <td>50000000.0</td>\n",
       "      <td>1000000.0</td>\n",
       "      <td>-21.0</td>\n",
       "      <td>-1.93</td>\n",
       "      <td>-0.03</td>\n",
       "      <td>-0.37</td>\n",
       "      <td>-159000000.0</td>\n",
       "      <td>-41000000.0</td>\n",
       "      <td>-201000000.0</td>\n",
       "      <td>-246000000.0</td>\n",
       "      <td>0.0</td>\n",
       "      <td>0.0</td>\n",
       "      <td>0.0</td>\n",
       "      <td>35000000.0</td>\n",
       "      <td>0.0</td>\n",
       "    </tr>\n",
       "  </tbody>\n",
       "</table>\n",
       "</div>"
      ],
      "text/plain": [
       "       Zone Produit   Origine  Aliments pour animaux  Autres Utilisations  \\\n",
       "7029  Japon  Avoine  vegetale             50000000.0            1000000.0   \n",
       "\n",
       "      Disponibilité alimentaire (Kcal/personne/jour)  \\\n",
       "7029                                           -21.0   \n",
       "\n",
       "      Disponibilité alimentaire en quantité (kg/personne/an)  \\\n",
       "7029                                              -1.93        \n",
       "\n",
       "      Disponibilité de matière grasse en quantité (g/personne/jour)  \\\n",
       "7029                                              -0.03               \n",
       "\n",
       "      Disponibilité de protéines en quantité (g/personne/jour)  \\\n",
       "7029                                              -0.37          \n",
       "\n",
       "      Disponibilité intérieure  Exportations - Quantité  \\\n",
       "7029              -159000000.0              -41000000.0   \n",
       "\n",
       "      Importations - Quantité   Nourriture  Pertes  Production  Semences  \\\n",
       "7029             -201000000.0 -246000000.0     0.0         0.0       0.0   \n",
       "\n",
       "      Traitement  Variation de stock  \n",
       "7029  35000000.0                 0.0  "
      ]
     },
     "execution_count": 99,
     "metadata": {},
     "output_type": "execute_result"
    }
   ],
   "source": [
    "#Vérification des valeurs négatives trouvés lors de l'analyse exploratoire du dataframe dispo_alimentaire\n",
    "\n",
    "dispo_alimentaire.loc[dispo_alimentaire['Disponibilité alimentaire (Kcal/personne/jour)']<0]"
   ]
  },
  {
   "cell_type": "code",
   "execution_count": 100,
   "id": "0ff1fff3",
   "metadata": {},
   "outputs": [
    {
     "data": {
      "image/png": "[encoded data removed]",
      "text/plain": [
       "<Figure size 1000x600 with 1 Axes>"
      ]
     },
     "metadata": {},
     "output_type": "display_data"
    }
   ],
   "source": [
    "#Comparaison entre l'évolution de la part de population en état de sous nutrition et le montant de l'aide alimentairer mondiale sur la même periode\n",
    "\n",
    "sous_nutrition_par_an = sous_nutrition.groupby('Année')['sous_nutrition'].sum().reset_index()\n",
    "\n",
    "plt.figure(figsize=(10, 6))\n",
    "plt.plot(sous_nutrition_par_an['Année'], sous_nutrition_par_an['sous_nutrition'] / 1e6, marker='o', linestyle='-')  # Diviser par 1 million pour obtenir en milliards\n",
    "plt.title('Évolution de la population mondiale en sous-nutrition (2013-2018)')\n",
    "plt.xlabel('Année')\n",
    "plt.ylabel('Population en sous-nutrition (en millions)')\n",
    "plt.grid(True)\n",
    "plt.xticks(sous_nutrition_par_an['Année'])\n",
    "plt.tight_layout()\n",
    "\n",
    "plt.savefig('evolution de la population en sous nutrition.png')\n",
    "plt.show()\n"
   ]
  },
  {
   "cell_type": "code",
   "execution_count": 101,
   "id": "8204dc4b",
   "metadata": {},
   "outputs": [
    {
     "data": {
      "image/png": "[encoded data removed]",
      "text/plain": [
       "<Figure size 1000x600 with 1 Axes>"
      ]
     },
     "metadata": {},
     "output_type": "display_data"
    }
   ],
   "source": [
    "#Calcul du montant annuel de l'aide alimentaire mondiale\n",
    "aide_alimentaire_filtre_année_grouped = aide_alimentaire_filtre_grouped.groupby('Année').sum()\n",
    "\n",
    "#Création d'un graphique montrant l'évolution de l'aide alimentaire mondiale entre 2013 et 2016\n",
    "plt.figure(figsize=(10, 6))\n",
    "plt.plot(aide_alimentaire_filtre_année_grouped.index, aide_alimentaire_filtre_année_grouped.values, marker='o', linestyle='-')\n",
    "plt.xlabel('Année')\n",
    "plt.ylabel('Aide alimentaire mondiale (en Md€)')\n",
    "plt.title('Évolution de l\\'aide alimentaire mondiale (2013-2016)')\n",
    "plt.xticks(range(2013, 2017, 1))\n",
    "\n",
    "plt.grid(True)\n",
    "\n",
    "plt.savefig('evolution de l aide alimentaire mondiale.png')\n",
    "plt.show()"
   ]
  },
  {
   "cell_type": "code",
   "execution_count": null,
   "id": "e6cd0903",
   "metadata": {},
   "outputs": [],
   "source": []
  }
 ],
 "metadata": {
  "kernelspec": {
   "display_name": "Python 3 (ipykernel)",
   "language": "python",
   "name": "python3"
  },
  "language_info": {
   "codemirror_mode": {
    "name": "ipython",
    "version": 3
   },
   "file_extension": ".py",
   "mimetype": "text/x-python",
   "name": "python",
   "nbconvert_exporter": "python",
   "pygments_lexer": "ipython3",
   "version": "3.11.5"
  }
 },
 "nbformat": 4,
 "nbformat_minor": 5
}
